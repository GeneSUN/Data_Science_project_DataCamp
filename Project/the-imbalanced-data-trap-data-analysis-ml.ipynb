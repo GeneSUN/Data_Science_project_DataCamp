{
 "cells": [
  {
   "cell_type": "markdown",
   "id": "5537145e",
   "metadata": {
    "_cell_guid": "b1076dfc-b9ad-4769-8c92-a6c4dae69d19",
    "_uuid": "8f2839f25d086af736a60e9eeb907d3b93b6e0e5",
    "papermill": {
     "duration": 0.039156,
     "end_time": "2021-08-07T01:21:19.517790",
     "exception": false,
     "start_time": "2021-08-07T01:21:19.478634",
     "status": "completed"
    },
    "tags": []
   },
   "source": [
    "# Table of Contents\n",
    "1. [Introduction](#1.-Introduction)\n",
    "\n",
    "    1.1. [Objectives](#1.1.-Objectives)\n",
    "    \n",
    "    1.2. [Features](#1.2.-Features)\n",
    "    \n",
    "2. [Packages, data loading and cleaning](#2.-Packages,-data-loading-and-cleaning)\n",
    "\n",
    "    2.1. [Packages](#2.1.-Packages)\n",
    "    \n",
    "    2.2. [Data loading](#2.2.-Data-loading)\n",
    "    \n",
    "    2.3. [Data cleaning](#2.3.-Data-cleaning)\n",
    " \n",
    "3. [Descriptive analysis](#3.-Descriptive-analysis)\n",
    "\n",
    "    3.1. [Categories](#3.1.-Categories)\n",
    "    \n",
    "    3.2. [Numbers](#3.2.-Numbers)\n",
    "    \n",
    "    3.3. [Booleans](#3.3.-Booleans)\n",
    "    \n",
    "    3.4. [Descriptive analysis conclusions and considerations.](#3.4.-Descriptive-analysis-conclusions-and-considerations.)\n",
    "\n",
    "4. [Data Analysis and EDA](#4.-Data-Analysis-and-EDA)\n",
    "    \n",
    "    4.1. [Overlaped histograms](#4.1.-Overlaped-histograms)\n",
    "    \n",
    "    4.2. [Barplots](#4.2.-Barplots)\n",
    "    \n",
    "5. [Model-based feature selection.](#5.-Model-based-feature-selection.)\n",
    "\n",
    "6. [Decision Tree](#6.-Decision-Tree)\n",
    "\n",
    "    6.1. [Resampling](#6.1.-Resampling)\n",
    "    \n",
    "    6.2. [Tree model](#6.2.-Tree-model)\n",
    "    \n",
    "    "
   ]
  },
  {
   "cell_type": "markdown",
   "id": "dd765e73",
   "metadata": {
    "papermill": {
     "duration": 0.037262,
     "end_time": "2021-08-07T01:21:19.593700",
     "exception": false,
     "start_time": "2021-08-07T01:21:19.556438",
     "status": "completed"
    },
    "tags": []
   },
   "source": [
    "# 1. Introduction\n",
    "\n",
    "publicly available data from LendingClub.com. Lending Club connects people who need money (borrowers) with people who have money (investors). Hopefully, as an investor you would want to invest in people who showed a profile of having a high probability of paying you back.\n",
    "\n",
    "We will use lending data from 2007-2010 and be trying to classify and predict whether or not the borrower paid back their loan in full.\n",
    "\n",
    "A model that predicts whether a consumer will pay or not could help companies distribute its their resources better. If the companies have a borrower profile, they can, for example, allocate their best debt collectors to each case. They can also come up with paying strategies that could help the borrower pay the debt.\n",
    "\n",
    "In this kernel, we are going to determine relevant factors that determine whether a borrower will pay a debt or not, then create a borrower profile and finally conlcude and make recommendations to better the business."
   ]
  },
  {
   "cell_type": "markdown",
   "id": "f60999cf",
   "metadata": {
    "papermill": {
     "duration": 0.038253,
     "end_time": "2021-08-07T01:21:19.671145",
     "exception": false,
     "start_time": "2021-08-07T01:21:19.632892",
     "status": "completed"
    },
    "tags": []
   },
   "source": [
    "## 1.1. Objectives\n",
    "- Find relevant factors that influence whether a borrower will pay or not.\n",
    "- Build a model that predicts wheter the borrower will pay or not.\n",
    "- Create a consumer profile of borrowers that pay or not.\n",
    "- Make conclusions and reccomendations to improve bussiness operations."
   ]
  },
  {
   "cell_type": "markdown",
   "id": "d82dda04",
   "metadata": {
    "papermill": {
     "duration": 0.037297,
     "end_time": "2021-08-07T01:21:19.746142",
     "exception": false,
     "start_time": "2021-08-07T01:21:19.708845",
     "status": "completed"
    },
    "tags": []
   },
   "source": [
    "## 1.2. Features\n",
    "\n",
    "- credit.policy: 1 if the customer meets the credit underwriting criteria of LendingClub.com, and 0 otherwise.\n",
    "- purpose: The purpose of the loan (takes values \"creditcard\", \"debtconsolidation\", \"educational\", \"majorpurchase\", \"smallbusiness\", and \"all_other\").\n",
    "- int.rate: The interest rate of the loan, as a proportion (a rate of 11% would be stored as 0.11). Borrowers judged by LendingClub.com to be more risky are assigned higher interest rates.\n",
    "- installment: The monthly installments owed by the borrower if the loan is funded.\n",
    "- log.annual.inc: The natural log of the self-reported annual income of the borrower.\n",
    "- dti: The debt-to-income ratio of the borrower (amount of debt divided by annual income).\n",
    "- fico: The FICO credit score of the borrower.\n",
    "- days.with.cr.line: The number of days the borrower has had a credit line.\n",
    "- revol.bal: The borrower's revolving balance (amount unpaid at the end of the credit card billing cycle).\n",
    "- revol.util: The borrower's revolving line utilization rate (the amount of the credit line used relative to total credit available).\n",
    "- inq.last.6mths: The borrower's number of inquiries by creditors in the last 6 months.\n",
    "- delinq.2yrs: The number of times the borrower had been 30+ days past due on a payment in the past 2 years.\n",
    "- pub.rec: The borrower's number of derogatory public records (bankruptcy filings, tax liens, or judgments)."
   ]
  },
  {
   "cell_type": "markdown",
   "id": "184e3b58",
   "metadata": {
    "papermill": {
     "duration": 0.037335,
     "end_time": "2021-08-07T01:21:19.821203",
     "exception": false,
     "start_time": "2021-08-07T01:21:19.783868",
     "status": "completed"
    },
    "tags": []
   },
   "source": [
    "# 2. Packages, data loading and cleaning"
   ]
  },
  {
   "cell_type": "markdown",
   "id": "760c2afa",
   "metadata": {
    "papermill": {
     "duration": 0.037297,
     "end_time": "2021-08-07T01:21:19.896266",
     "exception": false,
     "start_time": "2021-08-07T01:21:19.858969",
     "status": "completed"
    },
    "tags": []
   },
   "source": [
    "## 2.1. Packages"
   ]
  },
  {
   "cell_type": "code",
   "execution_count": 1,
   "id": "77ca9ba7",
   "metadata": {
    "execution": {
     "iopub.execute_input": "2021-08-07T01:21:19.987442Z",
     "iopub.status.busy": "2021-08-07T01:21:19.986279Z",
     "iopub.status.idle": "2021-08-07T01:21:21.391533Z",
     "shell.execute_reply": "2021-08-07T01:21:21.390192Z",
     "shell.execute_reply.started": "2021-08-07T01:18:36.756667Z"
    },
    "papermill": {
     "duration": 1.457912,
     "end_time": "2021-08-07T01:21:21.391709",
     "exception": false,
     "start_time": "2021-08-07T01:21:19.933797",
     "status": "completed"
    },
    "tags": []
   },
   "outputs": [
    {
     "ename": "ModuleNotFoundError",
     "evalue": "No module named 'graphviz'",
     "output_type": "error",
     "traceback": [
      "\u001b[1;31m---------------------------------------------------------------------------\u001b[0m",
      "\u001b[1;31mModuleNotFoundError\u001b[0m                       Traceback (most recent call last)",
      "\u001b[1;32m~\\AppData\\Local\\Temp/ipykernel_14964/2863400029.py\u001b[0m in \u001b[0;36m<module>\u001b[1;34m\u001b[0m\n\u001b[0;32m      6\u001b[0m \u001b[1;32mimport\u001b[0m \u001b[0mseaborn\u001b[0m \u001b[1;32mas\u001b[0m \u001b[0msns\u001b[0m\u001b[1;33m\u001b[0m\u001b[1;33m\u001b[0m\u001b[0m\n\u001b[0;32m      7\u001b[0m \u001b[1;32mimport\u001b[0m \u001b[0mmatplotlib\u001b[0m\u001b[1;33m.\u001b[0m\u001b[0mpyplot\u001b[0m \u001b[1;32mas\u001b[0m \u001b[0mplt\u001b[0m\u001b[1;33m\u001b[0m\u001b[1;33m\u001b[0m\u001b[0m\n\u001b[1;32m----> 8\u001b[1;33m \u001b[1;32mimport\u001b[0m \u001b[0mgraphviz\u001b[0m\u001b[1;33m\u001b[0m\u001b[1;33m\u001b[0m\u001b[0m\n\u001b[0m\u001b[0;32m      9\u001b[0m \u001b[0msns\u001b[0m\u001b[1;33m.\u001b[0m\u001b[0mset_style\u001b[0m\u001b[1;33m(\u001b[0m\u001b[1;34m'whitegrid'\u001b[0m\u001b[1;33m)\u001b[0m\u001b[1;33m\u001b[0m\u001b[1;33m\u001b[0m\u001b[0m\n\u001b[0;32m     10\u001b[0m \u001b[1;33m\u001b[0m\u001b[0m\n",
      "\u001b[1;31mModuleNotFoundError\u001b[0m: No module named 'graphviz'"
     ]
    }
   ],
   "source": [
    "# Data wrangling\n",
    "import pandas as pd\n",
    "import numpy as np\n",
    "\n",
    "# Data viz\n",
    "import seaborn as sns\n",
    "import matplotlib.pyplot as plt\n",
    "import graphviz\n",
    "sns.set_style('whitegrid')\n",
    "\n",
    "# preprocessing\n",
    "from sklearn.feature_selection import RFE\n",
    "\n",
    "# Ml model\n",
    "from sklearn.model_selection import train_test_split\n",
    "from sklearn.ensemble import RandomForestClassifier\n",
    "from sklearn.tree import DecisionTreeClassifier\n",
    "from sklearn.tree import export_graphviz\n",
    "from sklearn.metrics import plot_confusion_matrix\n",
    "\n",
    "# over-sampling\n",
    "from imblearn.over_sampling import RandomOverSampler\n",
    "\n",
    "# Scaling\n",
    "from sklearn.preprocessing import StandardScaler, RobustScaler, MinMaxScaler, Normalizer\n",
    "\n",
    "np.warnings.filterwarnings('ignore')"
   ]
  },
  {
   "cell_type": "markdown",
   "id": "7b3a318c",
   "metadata": {
    "papermill": {
     "duration": 0.039016,
     "end_time": "2021-08-07T01:21:21.468950",
     "exception": false,
     "start_time": "2021-08-07T01:21:21.429934",
     "status": "completed"
    },
    "tags": []
   },
   "source": [
    "## 2.2. Data loading"
   ]
  },
  {
   "cell_type": "code",
   "execution_count": 2,
   "id": "2f9907e3",
   "metadata": {
    "execution": {
     "iopub.execute_input": "2021-08-07T01:21:21.551308Z",
     "iopub.status.busy": "2021-08-07T01:21:21.550638Z",
     "iopub.status.idle": "2021-08-07T01:21:21.687079Z",
     "shell.execute_reply": "2021-08-07T01:21:21.686464Z",
     "shell.execute_reply.started": "2021-08-07T01:12:46.597734Z"
    },
    "papermill": {
     "duration": 0.179631,
     "end_time": "2021-08-07T01:21:21.687233",
     "exception": false,
     "start_time": "2021-08-07T01:21:21.507602",
     "status": "completed"
    },
    "tags": []
   },
   "outputs": [
    {
     "data": {
      "text/html": [
       "<div>\n",
       "<style scoped>\n",
       "    .dataframe tbody tr th:only-of-type {\n",
       "        vertical-align: middle;\n",
       "    }\n",
       "\n",
       "    .dataframe tbody tr th {\n",
       "        vertical-align: top;\n",
       "    }\n",
       "\n",
       "    .dataframe thead th {\n",
       "        text-align: right;\n",
       "    }\n",
       "</style>\n",
       "<table border=\"1\" class=\"dataframe\">\n",
       "  <thead>\n",
       "    <tr style=\"text-align: right;\">\n",
       "      <th></th>\n",
       "      <th>credit.policy</th>\n",
       "      <th>purpose</th>\n",
       "      <th>int.rate</th>\n",
       "      <th>installment</th>\n",
       "      <th>log.annual.inc</th>\n",
       "      <th>dti</th>\n",
       "      <th>fico</th>\n",
       "      <th>days.with.cr.line</th>\n",
       "      <th>revol.bal</th>\n",
       "      <th>revol.util</th>\n",
       "      <th>inq.last.6mths</th>\n",
       "      <th>delinq.2yrs</th>\n",
       "      <th>pub.rec</th>\n",
       "      <th>not.fully.paid</th>\n",
       "    </tr>\n",
       "  </thead>\n",
       "  <tbody>\n",
       "    <tr>\n",
       "      <th>0</th>\n",
       "      <td>1</td>\n",
       "      <td>debt_consolidation</td>\n",
       "      <td>0.1189</td>\n",
       "      <td>829.10</td>\n",
       "      <td>11.350407</td>\n",
       "      <td>19.48</td>\n",
       "      <td>737</td>\n",
       "      <td>5639.958333</td>\n",
       "      <td>28854</td>\n",
       "      <td>52.1</td>\n",
       "      <td>0</td>\n",
       "      <td>0</td>\n",
       "      <td>0</td>\n",
       "      <td>0</td>\n",
       "    </tr>\n",
       "    <tr>\n",
       "      <th>1</th>\n",
       "      <td>1</td>\n",
       "      <td>credit_card</td>\n",
       "      <td>0.1071</td>\n",
       "      <td>228.22</td>\n",
       "      <td>11.082143</td>\n",
       "      <td>14.29</td>\n",
       "      <td>707</td>\n",
       "      <td>2760.000000</td>\n",
       "      <td>33623</td>\n",
       "      <td>76.7</td>\n",
       "      <td>0</td>\n",
       "      <td>0</td>\n",
       "      <td>0</td>\n",
       "      <td>0</td>\n",
       "    </tr>\n",
       "    <tr>\n",
       "      <th>2</th>\n",
       "      <td>1</td>\n",
       "      <td>debt_consolidation</td>\n",
       "      <td>0.1357</td>\n",
       "      <td>366.86</td>\n",
       "      <td>10.373491</td>\n",
       "      <td>11.63</td>\n",
       "      <td>682</td>\n",
       "      <td>4710.000000</td>\n",
       "      <td>3511</td>\n",
       "      <td>25.6</td>\n",
       "      <td>1</td>\n",
       "      <td>0</td>\n",
       "      <td>0</td>\n",
       "      <td>0</td>\n",
       "    </tr>\n",
       "    <tr>\n",
       "      <th>3</th>\n",
       "      <td>1</td>\n",
       "      <td>debt_consolidation</td>\n",
       "      <td>0.1008</td>\n",
       "      <td>162.34</td>\n",
       "      <td>11.350407</td>\n",
       "      <td>8.10</td>\n",
       "      <td>712</td>\n",
       "      <td>2699.958333</td>\n",
       "      <td>33667</td>\n",
       "      <td>73.2</td>\n",
       "      <td>1</td>\n",
       "      <td>0</td>\n",
       "      <td>0</td>\n",
       "      <td>0</td>\n",
       "    </tr>\n",
       "    <tr>\n",
       "      <th>4</th>\n",
       "      <td>1</td>\n",
       "      <td>credit_card</td>\n",
       "      <td>0.1426</td>\n",
       "      <td>102.92</td>\n",
       "      <td>11.299732</td>\n",
       "      <td>14.97</td>\n",
       "      <td>667</td>\n",
       "      <td>4066.000000</td>\n",
       "      <td>4740</td>\n",
       "      <td>39.5</td>\n",
       "      <td>0</td>\n",
       "      <td>1</td>\n",
       "      <td>0</td>\n",
       "      <td>0</td>\n",
       "    </tr>\n",
       "    <tr>\n",
       "      <th>...</th>\n",
       "      <td>...</td>\n",
       "      <td>...</td>\n",
       "      <td>...</td>\n",
       "      <td>...</td>\n",
       "      <td>...</td>\n",
       "      <td>...</td>\n",
       "      <td>...</td>\n",
       "      <td>...</td>\n",
       "      <td>...</td>\n",
       "      <td>...</td>\n",
       "      <td>...</td>\n",
       "      <td>...</td>\n",
       "      <td>...</td>\n",
       "      <td>...</td>\n",
       "    </tr>\n",
       "    <tr>\n",
       "      <th>9573</th>\n",
       "      <td>0</td>\n",
       "      <td>all_other</td>\n",
       "      <td>0.1461</td>\n",
       "      <td>344.76</td>\n",
       "      <td>12.180755</td>\n",
       "      <td>10.39</td>\n",
       "      <td>672</td>\n",
       "      <td>10474.000000</td>\n",
       "      <td>215372</td>\n",
       "      <td>82.1</td>\n",
       "      <td>2</td>\n",
       "      <td>0</td>\n",
       "      <td>0</td>\n",
       "      <td>1</td>\n",
       "    </tr>\n",
       "    <tr>\n",
       "      <th>9574</th>\n",
       "      <td>0</td>\n",
       "      <td>all_other</td>\n",
       "      <td>0.1253</td>\n",
       "      <td>257.70</td>\n",
       "      <td>11.141862</td>\n",
       "      <td>0.21</td>\n",
       "      <td>722</td>\n",
       "      <td>4380.000000</td>\n",
       "      <td>184</td>\n",
       "      <td>1.1</td>\n",
       "      <td>5</td>\n",
       "      <td>0</td>\n",
       "      <td>0</td>\n",
       "      <td>1</td>\n",
       "    </tr>\n",
       "    <tr>\n",
       "      <th>9575</th>\n",
       "      <td>0</td>\n",
       "      <td>debt_consolidation</td>\n",
       "      <td>0.1071</td>\n",
       "      <td>97.81</td>\n",
       "      <td>10.596635</td>\n",
       "      <td>13.09</td>\n",
       "      <td>687</td>\n",
       "      <td>3450.041667</td>\n",
       "      <td>10036</td>\n",
       "      <td>82.9</td>\n",
       "      <td>8</td>\n",
       "      <td>0</td>\n",
       "      <td>0</td>\n",
       "      <td>1</td>\n",
       "    </tr>\n",
       "    <tr>\n",
       "      <th>9576</th>\n",
       "      <td>0</td>\n",
       "      <td>home_improvement</td>\n",
       "      <td>0.1600</td>\n",
       "      <td>351.58</td>\n",
       "      <td>10.819778</td>\n",
       "      <td>19.18</td>\n",
       "      <td>692</td>\n",
       "      <td>1800.000000</td>\n",
       "      <td>0</td>\n",
       "      <td>3.2</td>\n",
       "      <td>5</td>\n",
       "      <td>0</td>\n",
       "      <td>0</td>\n",
       "      <td>1</td>\n",
       "    </tr>\n",
       "    <tr>\n",
       "      <th>9577</th>\n",
       "      <td>0</td>\n",
       "      <td>debt_consolidation</td>\n",
       "      <td>0.1392</td>\n",
       "      <td>853.43</td>\n",
       "      <td>11.264464</td>\n",
       "      <td>16.28</td>\n",
       "      <td>732</td>\n",
       "      <td>4740.000000</td>\n",
       "      <td>37879</td>\n",
       "      <td>57.0</td>\n",
       "      <td>6</td>\n",
       "      <td>0</td>\n",
       "      <td>0</td>\n",
       "      <td>1</td>\n",
       "    </tr>\n",
       "  </tbody>\n",
       "</table>\n",
       "<p>9578 rows × 14 columns</p>\n",
       "</div>"
      ],
      "text/plain": [
       "      credit.policy             purpose  int.rate  installment  \\\n",
       "0                 1  debt_consolidation    0.1189       829.10   \n",
       "1                 1         credit_card    0.1071       228.22   \n",
       "2                 1  debt_consolidation    0.1357       366.86   \n",
       "3                 1  debt_consolidation    0.1008       162.34   \n",
       "4                 1         credit_card    0.1426       102.92   \n",
       "...             ...                 ...       ...          ...   \n",
       "9573              0           all_other    0.1461       344.76   \n",
       "9574              0           all_other    0.1253       257.70   \n",
       "9575              0  debt_consolidation    0.1071        97.81   \n",
       "9576              0    home_improvement    0.1600       351.58   \n",
       "9577              0  debt_consolidation    0.1392       853.43   \n",
       "\n",
       "      log.annual.inc    dti  fico  days.with.cr.line  revol.bal  revol.util  \\\n",
       "0          11.350407  19.48   737        5639.958333      28854        52.1   \n",
       "1          11.082143  14.29   707        2760.000000      33623        76.7   \n",
       "2          10.373491  11.63   682        4710.000000       3511        25.6   \n",
       "3          11.350407   8.10   712        2699.958333      33667        73.2   \n",
       "4          11.299732  14.97   667        4066.000000       4740        39.5   \n",
       "...              ...    ...   ...                ...        ...         ...   \n",
       "9573       12.180755  10.39   672       10474.000000     215372        82.1   \n",
       "9574       11.141862   0.21   722        4380.000000        184         1.1   \n",
       "9575       10.596635  13.09   687        3450.041667      10036        82.9   \n",
       "9576       10.819778  19.18   692        1800.000000          0         3.2   \n",
       "9577       11.264464  16.28   732        4740.000000      37879        57.0   \n",
       "\n",
       "      inq.last.6mths  delinq.2yrs  pub.rec  not.fully.paid  \n",
       "0                  0            0        0               0  \n",
       "1                  0            0        0               0  \n",
       "2                  1            0        0               0  \n",
       "3                  1            0        0               0  \n",
       "4                  0            1        0               0  \n",
       "...              ...          ...      ...             ...  \n",
       "9573               2            0        0               1  \n",
       "9574               5            0        0               1  \n",
       "9575               8            0        0               1  \n",
       "9576               5            0        0               1  \n",
       "9577               6            0        0               1  \n",
       "\n",
       "[9578 rows x 14 columns]"
      ]
     },
     "metadata": {},
     "output_type": "display_data"
    },
    {
     "data": {
      "text/html": [
       "<div>\n",
       "<style scoped>\n",
       "    .dataframe tbody tr th:only-of-type {\n",
       "        vertical-align: middle;\n",
       "    }\n",
       "\n",
       "    .dataframe tbody tr th {\n",
       "        vertical-align: top;\n",
       "    }\n",
       "\n",
       "    .dataframe thead th {\n",
       "        text-align: right;\n",
       "    }\n",
       "</style>\n",
       "<table border=\"1\" class=\"dataframe\">\n",
       "  <thead>\n",
       "    <tr style=\"text-align: right;\">\n",
       "      <th></th>\n",
       "      <th>credit.policy</th>\n",
       "      <th>int.rate</th>\n",
       "      <th>installment</th>\n",
       "      <th>log.annual.inc</th>\n",
       "      <th>dti</th>\n",
       "      <th>fico</th>\n",
       "      <th>days.with.cr.line</th>\n",
       "      <th>revol.bal</th>\n",
       "      <th>revol.util</th>\n",
       "      <th>inq.last.6mths</th>\n",
       "      <th>delinq.2yrs</th>\n",
       "      <th>pub.rec</th>\n",
       "      <th>not.fully.paid</th>\n",
       "    </tr>\n",
       "  </thead>\n",
       "  <tbody>\n",
       "    <tr>\n",
       "      <th>count</th>\n",
       "      <td>9578.000000</td>\n",
       "      <td>9578.000000</td>\n",
       "      <td>9578.000000</td>\n",
       "      <td>9578.000000</td>\n",
       "      <td>9578.000000</td>\n",
       "      <td>9578.000000</td>\n",
       "      <td>9578.000000</td>\n",
       "      <td>9.578000e+03</td>\n",
       "      <td>9578.000000</td>\n",
       "      <td>9578.000000</td>\n",
       "      <td>9578.000000</td>\n",
       "      <td>9578.000000</td>\n",
       "      <td>9578.000000</td>\n",
       "    </tr>\n",
       "    <tr>\n",
       "      <th>mean</th>\n",
       "      <td>0.804970</td>\n",
       "      <td>0.122640</td>\n",
       "      <td>319.089413</td>\n",
       "      <td>10.932117</td>\n",
       "      <td>12.606679</td>\n",
       "      <td>710.846314</td>\n",
       "      <td>4560.767197</td>\n",
       "      <td>1.691396e+04</td>\n",
       "      <td>46.799236</td>\n",
       "      <td>1.577469</td>\n",
       "      <td>0.163708</td>\n",
       "      <td>0.062122</td>\n",
       "      <td>0.160054</td>\n",
       "    </tr>\n",
       "    <tr>\n",
       "      <th>std</th>\n",
       "      <td>0.396245</td>\n",
       "      <td>0.026847</td>\n",
       "      <td>207.071301</td>\n",
       "      <td>0.614813</td>\n",
       "      <td>6.883970</td>\n",
       "      <td>37.970537</td>\n",
       "      <td>2496.930377</td>\n",
       "      <td>3.375619e+04</td>\n",
       "      <td>29.014417</td>\n",
       "      <td>2.200245</td>\n",
       "      <td>0.546215</td>\n",
       "      <td>0.262126</td>\n",
       "      <td>0.366676</td>\n",
       "    </tr>\n",
       "    <tr>\n",
       "      <th>min</th>\n",
       "      <td>0.000000</td>\n",
       "      <td>0.060000</td>\n",
       "      <td>15.670000</td>\n",
       "      <td>7.547502</td>\n",
       "      <td>0.000000</td>\n",
       "      <td>612.000000</td>\n",
       "      <td>178.958333</td>\n",
       "      <td>0.000000e+00</td>\n",
       "      <td>0.000000</td>\n",
       "      <td>0.000000</td>\n",
       "      <td>0.000000</td>\n",
       "      <td>0.000000</td>\n",
       "      <td>0.000000</td>\n",
       "    </tr>\n",
       "    <tr>\n",
       "      <th>25%</th>\n",
       "      <td>1.000000</td>\n",
       "      <td>0.103900</td>\n",
       "      <td>163.770000</td>\n",
       "      <td>10.558414</td>\n",
       "      <td>7.212500</td>\n",
       "      <td>682.000000</td>\n",
       "      <td>2820.000000</td>\n",
       "      <td>3.187000e+03</td>\n",
       "      <td>22.600000</td>\n",
       "      <td>0.000000</td>\n",
       "      <td>0.000000</td>\n",
       "      <td>0.000000</td>\n",
       "      <td>0.000000</td>\n",
       "    </tr>\n",
       "    <tr>\n",
       "      <th>50%</th>\n",
       "      <td>1.000000</td>\n",
       "      <td>0.122100</td>\n",
       "      <td>268.950000</td>\n",
       "      <td>10.928884</td>\n",
       "      <td>12.665000</td>\n",
       "      <td>707.000000</td>\n",
       "      <td>4139.958333</td>\n",
       "      <td>8.596000e+03</td>\n",
       "      <td>46.300000</td>\n",
       "      <td>1.000000</td>\n",
       "      <td>0.000000</td>\n",
       "      <td>0.000000</td>\n",
       "      <td>0.000000</td>\n",
       "    </tr>\n",
       "    <tr>\n",
       "      <th>75%</th>\n",
       "      <td>1.000000</td>\n",
       "      <td>0.140700</td>\n",
       "      <td>432.762500</td>\n",
       "      <td>11.291293</td>\n",
       "      <td>17.950000</td>\n",
       "      <td>737.000000</td>\n",
       "      <td>5730.000000</td>\n",
       "      <td>1.824950e+04</td>\n",
       "      <td>70.900000</td>\n",
       "      <td>2.000000</td>\n",
       "      <td>0.000000</td>\n",
       "      <td>0.000000</td>\n",
       "      <td>0.000000</td>\n",
       "    </tr>\n",
       "    <tr>\n",
       "      <th>max</th>\n",
       "      <td>1.000000</td>\n",
       "      <td>0.216400</td>\n",
       "      <td>940.140000</td>\n",
       "      <td>14.528354</td>\n",
       "      <td>29.960000</td>\n",
       "      <td>827.000000</td>\n",
       "      <td>17639.958330</td>\n",
       "      <td>1.207359e+06</td>\n",
       "      <td>119.000000</td>\n",
       "      <td>33.000000</td>\n",
       "      <td>13.000000</td>\n",
       "      <td>5.000000</td>\n",
       "      <td>1.000000</td>\n",
       "    </tr>\n",
       "  </tbody>\n",
       "</table>\n",
       "</div>"
      ],
      "text/plain": [
       "       credit.policy     int.rate  installment  log.annual.inc          dti  \\\n",
       "count    9578.000000  9578.000000  9578.000000     9578.000000  9578.000000   \n",
       "mean        0.804970     0.122640   319.089413       10.932117    12.606679   \n",
       "std         0.396245     0.026847   207.071301        0.614813     6.883970   \n",
       "min         0.000000     0.060000    15.670000        7.547502     0.000000   \n",
       "25%         1.000000     0.103900   163.770000       10.558414     7.212500   \n",
       "50%         1.000000     0.122100   268.950000       10.928884    12.665000   \n",
       "75%         1.000000     0.140700   432.762500       11.291293    17.950000   \n",
       "max         1.000000     0.216400   940.140000       14.528354    29.960000   \n",
       "\n",
       "              fico  days.with.cr.line     revol.bal   revol.util  \\\n",
       "count  9578.000000        9578.000000  9.578000e+03  9578.000000   \n",
       "mean    710.846314        4560.767197  1.691396e+04    46.799236   \n",
       "std      37.970537        2496.930377  3.375619e+04    29.014417   \n",
       "min     612.000000         178.958333  0.000000e+00     0.000000   \n",
       "25%     682.000000        2820.000000  3.187000e+03    22.600000   \n",
       "50%     707.000000        4139.958333  8.596000e+03    46.300000   \n",
       "75%     737.000000        5730.000000  1.824950e+04    70.900000   \n",
       "max     827.000000       17639.958330  1.207359e+06   119.000000   \n",
       "\n",
       "       inq.last.6mths  delinq.2yrs      pub.rec  not.fully.paid  \n",
       "count     9578.000000  9578.000000  9578.000000     9578.000000  \n",
       "mean         1.577469     0.163708     0.062122        0.160054  \n",
       "std          2.200245     0.546215     0.262126        0.366676  \n",
       "min          0.000000     0.000000     0.000000        0.000000  \n",
       "25%          0.000000     0.000000     0.000000        0.000000  \n",
       "50%          1.000000     0.000000     0.000000        0.000000  \n",
       "75%          2.000000     0.000000     0.000000        0.000000  \n",
       "max         33.000000    13.000000     5.000000        1.000000  "
      ]
     },
     "metadata": {},
     "output_type": "display_data"
    }
   ],
   "source": [
    "loan = pd.read_csv('../input/loan-data/loan_data.csv')\n",
    "display(loan)\n",
    "display(loan.describe())"
   ]
  },
  {
   "cell_type": "markdown",
   "id": "8cfb733b",
   "metadata": {
    "papermill": {
     "duration": 0.040611,
     "end_time": "2021-08-07T01:21:21.769801",
     "exception": false,
     "start_time": "2021-08-07T01:21:21.729190",
     "status": "completed"
    },
    "tags": []
   },
   "source": [
    "## 2.3. Data cleaning\n",
    "In this step we are going to eliminate duplicates and examine Nulls values and see if they can be discarted as well. It might be possible that the cleaning process extend itself until the descriptive analysis, where is possible that suspicious data comes up.\n",
    "\n",
    "We are also going to take a look at the data types and modify them if they are inconsistent."
   ]
  },
  {
   "cell_type": "markdown",
   "id": "ee6b40eb",
   "metadata": {
    "papermill": {
     "duration": 0.040451,
     "end_time": "2021-08-07T01:21:21.851438",
     "exception": false,
     "start_time": "2021-08-07T01:21:21.810987",
     "status": "completed"
    },
    "tags": []
   },
   "source": [
    "### Data types"
   ]
  },
  {
   "cell_type": "code",
   "execution_count": 3,
   "id": "c98cd422",
   "metadata": {
    "execution": {
     "iopub.execute_input": "2021-08-07T01:21:21.939304Z",
     "iopub.status.busy": "2021-08-07T01:21:21.938675Z",
     "iopub.status.idle": "2021-08-07T01:21:21.955840Z",
     "shell.execute_reply": "2021-08-07T01:21:21.955292Z",
     "shell.execute_reply.started": "2021-08-07T01:12:46.743249Z"
    },
    "papermill": {
     "duration": 0.063692,
     "end_time": "2021-08-07T01:21:21.955980",
     "exception": false,
     "start_time": "2021-08-07T01:21:21.892288",
     "status": "completed"
    },
    "tags": []
   },
   "outputs": [
    {
     "name": "stdout",
     "output_type": "stream",
     "text": [
      "<class 'pandas.core.frame.DataFrame'>\n",
      "RangeIndex: 9578 entries, 0 to 9577\n",
      "Data columns (total 14 columns):\n",
      " #   Column             Non-Null Count  Dtype  \n",
      "---  ------             --------------  -----  \n",
      " 0   credit.policy      9578 non-null   int64  \n",
      " 1   purpose            9578 non-null   object \n",
      " 2   int.rate           9578 non-null   float64\n",
      " 3   installment        9578 non-null   float64\n",
      " 4   log.annual.inc     9578 non-null   float64\n",
      " 5   dti                9578 non-null   float64\n",
      " 6   fico               9578 non-null   int64  \n",
      " 7   days.with.cr.line  9578 non-null   float64\n",
      " 8   revol.bal          9578 non-null   int64  \n",
      " 9   revol.util         9578 non-null   float64\n",
      " 10  inq.last.6mths     9578 non-null   int64  \n",
      " 11  delinq.2yrs        9578 non-null   int64  \n",
      " 12  pub.rec            9578 non-null   int64  \n",
      " 13  not.fully.paid     9578 non-null   int64  \n",
      "dtypes: float64(6), int64(7), object(1)\n",
      "memory usage: 1.0+ MB\n"
     ]
    },
    {
     "data": {
      "text/plain": [
       "None"
      ]
     },
     "metadata": {},
     "output_type": "display_data"
    }
   ],
   "source": [
    "display(loan.info())"
   ]
  },
  {
   "cell_type": "markdown",
   "id": "af74d250",
   "metadata": {
    "papermill": {
     "duration": 0.04359,
     "end_time": "2021-08-07T01:21:22.043222",
     "exception": false,
     "start_time": "2021-08-07T01:21:21.999632",
     "status": "completed"
    },
    "tags": []
   },
   "source": [
    "We could leave the datatypes like that since a boolean could also be interpreted as a boolean. But, tu ease the algorithm in the descritive section we are going to convert \"credit policy\" and \"not.fully.paid\" to booleans. The remaining features are all in order."
   ]
  },
  {
   "cell_type": "code",
   "execution_count": 4,
   "id": "87e77dea",
   "metadata": {
    "execution": {
     "iopub.execute_input": "2021-08-07T01:21:22.135421Z",
     "iopub.status.busy": "2021-08-07T01:21:22.132326Z",
     "iopub.status.idle": "2021-08-07T01:21:22.148659Z",
     "shell.execute_reply": "2021-08-07T01:21:22.148007Z",
     "shell.execute_reply.started": "2021-08-07T01:12:46.765165Z"
    },
    "papermill": {
     "duration": 0.064551,
     "end_time": "2021-08-07T01:21:22.148840",
     "exception": false,
     "start_time": "2021-08-07T01:21:22.084289",
     "status": "completed"
    },
    "tags": []
   },
   "outputs": [
    {
     "name": "stdout",
     "output_type": "stream",
     "text": [
      "<class 'pandas.core.frame.DataFrame'>\n",
      "RangeIndex: 9578 entries, 0 to 9577\n",
      "Data columns (total 14 columns):\n",
      " #   Column             Non-Null Count  Dtype  \n",
      "---  ------             --------------  -----  \n",
      " 0   credit.policy      9578 non-null   bool   \n",
      " 1   purpose            9578 non-null   object \n",
      " 2   int.rate           9578 non-null   float64\n",
      " 3   installment        9578 non-null   float64\n",
      " 4   log.annual.inc     9578 non-null   float64\n",
      " 5   dti                9578 non-null   float64\n",
      " 6   fico               9578 non-null   int64  \n",
      " 7   days.with.cr.line  9578 non-null   float64\n",
      " 8   revol.bal          9578 non-null   int64  \n",
      " 9   revol.util         9578 non-null   float64\n",
      " 10  inq.last.6mths     9578 non-null   int64  \n",
      " 11  delinq.2yrs        9578 non-null   int64  \n",
      " 12  pub.rec            9578 non-null   int64  \n",
      " 13  not.fully.paid     9578 non-null   bool   \n",
      "dtypes: bool(2), float64(6), int64(5), object(1)\n",
      "memory usage: 916.8+ KB\n",
      "None\n"
     ]
    }
   ],
   "source": [
    "loan[\"credit.policy\"] = loan[\"credit.policy\"].astype(\"bool\")\n",
    "loan[\"not.fully.paid\"] = loan[\"not.fully.paid\"].astype(\"bool\")\n",
    "print(loan.info())"
   ]
  },
  {
   "cell_type": "markdown",
   "id": "a18355ea",
   "metadata": {
    "papermill": {
     "duration": 0.042774,
     "end_time": "2021-08-07T01:21:22.233394",
     "exception": false,
     "start_time": "2021-08-07T01:21:22.190620",
     "status": "completed"
    },
    "tags": []
   },
   "source": [
    "### Duplicates"
   ]
  },
  {
   "cell_type": "code",
   "execution_count": 5,
   "id": "7eed84ad",
   "metadata": {
    "execution": {
     "iopub.execute_input": "2021-08-07T01:21:22.321575Z",
     "iopub.status.busy": "2021-08-07T01:21:22.320951Z",
     "iopub.status.idle": "2021-08-07T01:21:22.337960Z",
     "shell.execute_reply": "2021-08-07T01:21:22.338474Z",
     "shell.execute_reply.started": "2021-08-07T01:12:46.785418Z"
    },
    "papermill": {
     "duration": 0.06284,
     "end_time": "2021-08-07T01:21:22.338644",
     "exception": false,
     "start_time": "2021-08-07T01:21:22.275804",
     "status": "completed"
    },
    "tags": []
   },
   "outputs": [],
   "source": [
    "loan.drop_duplicates(inplace=True)"
   ]
  },
  {
   "cell_type": "markdown",
   "id": "c76ac77d",
   "metadata": {
    "papermill": {
     "duration": 0.04025,
     "end_time": "2021-08-07T01:21:22.419737",
     "exception": false,
     "start_time": "2021-08-07T01:21:22.379487",
     "status": "completed"
    },
    "tags": []
   },
   "source": [
    "### Null's\n",
    "Before dropping the null's let's frst check how they are distributed with a heatmap"
   ]
  },
  {
   "cell_type": "code",
   "execution_count": 6,
   "id": "a313bb15",
   "metadata": {
    "execution": {
     "iopub.execute_input": "2021-08-07T01:21:22.504705Z",
     "iopub.status.busy": "2021-08-07T01:21:22.503757Z",
     "iopub.status.idle": "2021-08-07T01:21:23.248309Z",
     "shell.execute_reply": "2021-08-07T01:21:23.247617Z",
     "shell.execute_reply.started": "2021-08-07T01:12:46.804010Z"
    },
    "papermill": {
     "duration": 0.7882,
     "end_time": "2021-08-07T01:21:23.248461",
     "exception": false,
     "start_time": "2021-08-07T01:21:22.460261",
     "status": "completed"
    },
    "tags": []
   },
   "outputs": [
    {
     "data": {
      "text/plain": [
       "<AxesSubplot:>"
      ]
     },
     "execution_count": 6,
     "metadata": {},
     "output_type": "execute_result"
    },
    {
     "data": {
      "image/png": "[encoded data removed]",
      "text/plain": [
       "<Figure size 432x288 with 2 Axes>"
      ]
     },
     "metadata": {},
     "output_type": "display_data"
    }
   ],
   "source": [
    "sns.heatmap(loan.isnull())"
   ]
  },
  {
   "cell_type": "markdown",
   "id": "907f2e1f",
   "metadata": {
    "papermill": {
     "duration": 0.043654,
     "end_time": "2021-08-07T01:21:23.336704",
     "exception": false,
     "start_time": "2021-08-07T01:21:23.293050",
     "status": "completed"
    },
    "tags": []
   },
   "source": [
    "The heatmap doesn't show any null value. We can then continue with the descriptive analysis."
   ]
  },
  {
   "cell_type": "markdown",
   "id": "ecb61b74",
   "metadata": {
    "papermill": {
     "duration": 0.04321,
     "end_time": "2021-08-07T01:21:23.424071",
     "exception": false,
     "start_time": "2021-08-07T01:21:23.380861",
     "status": "completed"
    },
    "tags": []
   },
   "source": [
    "# 3. Descriptive analysis"
   ]
  },
  {
   "cell_type": "markdown",
   "id": "50c725fc",
   "metadata": {
    "papermill": {
     "duration": 0.043238,
     "end_time": "2021-08-07T01:21:23.511365",
     "exception": false,
     "start_time": "2021-08-07T01:21:23.468127",
     "status": "completed"
    },
    "tags": []
   },
   "source": [
    "We know from section 2.3. that most of the features are numeric, having only one categorical and two booleans, one of which being our target variable which is our target variable. This makes our descriptive analysis quite easy since we only have to graph histograms corresponding to the numeric values, a bar plot for the categorical feature an another barplot for the boolean."
   ]
  },
  {
   "cell_type": "markdown",
   "id": "44b99823",
   "metadata": {
    "papermill": {
     "duration": 0.043176,
     "end_time": "2021-08-07T01:21:23.598502",
     "exception": false,
     "start_time": "2021-08-07T01:21:23.555326",
     "status": "completed"
    },
    "tags": []
   },
   "source": [
    "## 3.1. Categories"
   ]
  },
  {
   "cell_type": "code",
   "execution_count": 7,
   "id": "9f1355d7",
   "metadata": {
    "execution": {
     "iopub.execute_input": "2021-08-07T01:21:23.810658Z",
     "iopub.status.busy": "2021-08-07T01:21:23.801528Z",
     "iopub.status.idle": "2021-08-07T01:21:24.068953Z",
     "shell.execute_reply": "2021-08-07T01:21:24.067719Z",
     "shell.execute_reply.started": "2021-08-07T01:12:47.538691Z"
    },
    "papermill": {
     "duration": 0.427068,
     "end_time": "2021-08-07T01:21:24.069119",
     "exception": false,
     "start_time": "2021-08-07T01:21:23.642051",
     "status": "completed"
    },
    "tags": []
   },
   "outputs": [
    {
     "data": {
      "image/png": "[encoded data removed]",
      "text/plain": [
       "<Figure size 576x360 with 1 Axes>"
      ]
     },
     "metadata": {},
     "output_type": "display_data"
    },
    {
     "data": {
      "text/html": [
       "<div>\n",
       "<style scoped>\n",
       "    .dataframe tbody tr th:only-of-type {\n",
       "        vertical-align: middle;\n",
       "    }\n",
       "\n",
       "    .dataframe tbody tr th {\n",
       "        vertical-align: top;\n",
       "    }\n",
       "\n",
       "    .dataframe thead th {\n",
       "        text-align: right;\n",
       "    }\n",
       "</style>\n",
       "<table border=\"1\" class=\"dataframe\">\n",
       "  <thead>\n",
       "    <tr style=\"text-align: right;\">\n",
       "      <th></th>\n",
       "      <th>count</th>\n",
       "      <th>%</th>\n",
       "    </tr>\n",
       "  </thead>\n",
       "  <tbody>\n",
       "    <tr>\n",
       "      <th>debt_consolidation</th>\n",
       "      <td>3957</td>\n",
       "      <td>41.31</td>\n",
       "    </tr>\n",
       "    <tr>\n",
       "      <th>all_other</th>\n",
       "      <td>2331</td>\n",
       "      <td>24.34</td>\n",
       "    </tr>\n",
       "    <tr>\n",
       "      <th>credit_card</th>\n",
       "      <td>1262</td>\n",
       "      <td>13.18</td>\n",
       "    </tr>\n",
       "    <tr>\n",
       "      <th>home_improvement</th>\n",
       "      <td>629</td>\n",
       "      <td>6.57</td>\n",
       "    </tr>\n",
       "    <tr>\n",
       "      <th>small_business</th>\n",
       "      <td>619</td>\n",
       "      <td>6.46</td>\n",
       "    </tr>\n",
       "    <tr>\n",
       "      <th>major_purchase</th>\n",
       "      <td>437</td>\n",
       "      <td>4.56</td>\n",
       "    </tr>\n",
       "    <tr>\n",
       "      <th>educational</th>\n",
       "      <td>343</td>\n",
       "      <td>3.58</td>\n",
       "    </tr>\n",
       "  </tbody>\n",
       "</table>\n",
       "</div>"
      ],
      "text/plain": [
       "                    count      %\n",
       "debt_consolidation   3957  41.31\n",
       "all_other            2331  24.34\n",
       "credit_card          1262  13.18\n",
       "home_improvement      629   6.57\n",
       "small_business        619   6.46\n",
       "major_purchase        437   4.56\n",
       "educational           343   3.58"
      ]
     },
     "execution_count": 7,
     "metadata": {},
     "output_type": "execute_result"
    }
   ],
   "source": [
    "fig, ax = plt.subplots(figsize=(8,5))\n",
    "\n",
    "cat = loan.select_dtypes('object').columns\n",
    "\n",
    "order = list(loan[cat[0]].value_counts().keys())\n",
    "sns.countplot(cat[0], data=loan, palette=\"vlag\", order=order)\n",
    "ax.tick_params(labelrotation=90)\n",
    "ax.set_title(cat[0])\n",
    "\n",
    "plt.show()\n",
    "\n",
    "table = pd.DataFrame(loan[cat[0]].value_counts())\n",
    "table.rename(columns={'purpose':'count'}, inplace=True)\n",
    "table['%'] = np.round((table['count']/table['count'].sum()) * 100, 2)\n",
    "table"
   ]
  },
  {
   "cell_type": "markdown",
   "id": "0a4e4c6a",
   "metadata": {
    "papermill": {
     "duration": 0.044712,
     "end_time": "2021-08-07T01:21:24.160065",
     "exception": false,
     "start_time": "2021-08-07T01:21:24.115353",
     "status": "completed"
    },
    "tags": []
   },
   "source": [
    "From the descriptive analysis we can see that most of the borrowers are for debt consolidation (41.31%). The least category is educational. It is too soon to start concluding, but my intuition tells me that the categories with the most borrowers are also the ones with a bigger proportion of paid debt, as educational sits at the bottom having students with the least amount of money. We will wait though until the analysis part where we are going to analyse further."
   ]
  },
  {
   "cell_type": "markdown",
   "id": "7273f783",
   "metadata": {
    "papermill": {
     "duration": 0.045166,
     "end_time": "2021-08-07T01:21:24.251621",
     "exception": false,
     "start_time": "2021-08-07T01:21:24.206455",
     "status": "completed"
    },
    "tags": []
   },
   "source": [
    "## 3.2. Numbers"
   ]
  },
  {
   "cell_type": "code",
   "execution_count": 8,
   "id": "268fbeb4",
   "metadata": {
    "execution": {
     "iopub.execute_input": "2021-08-07T01:21:24.346585Z",
     "iopub.status.busy": "2021-08-07T01:21:24.345637Z",
     "iopub.status.idle": "2021-08-07T01:21:26.496753Z",
     "shell.execute_reply": "2021-08-07T01:21:26.495685Z",
     "shell.execute_reply.started": "2021-08-07T01:12:47.906488Z"
    },
    "papermill": {
     "duration": 2.199449,
     "end_time": "2021-08-07T01:21:26.496945",
     "exception": false,
     "start_time": "2021-08-07T01:21:24.297496",
     "status": "completed"
    },
    "tags": []
   },
   "outputs": [
    {
     "data": {
      "image/png": "[encoded data removed]",
      "text/plain": [
       "<Figure size 1440x720 with 12 Axes>"
      ]
     },
     "metadata": {},
     "output_type": "display_data"
    },
    {
     "data": {
      "text/html": [
       "<div>\n",
       "<style scoped>\n",
       "    .dataframe tbody tr th:only-of-type {\n",
       "        vertical-align: middle;\n",
       "    }\n",
       "\n",
       "    .dataframe tbody tr th {\n",
       "        vertical-align: top;\n",
       "    }\n",
       "\n",
       "    .dataframe thead th {\n",
       "        text-align: right;\n",
       "    }\n",
       "</style>\n",
       "<table border=\"1\" class=\"dataframe\">\n",
       "  <thead>\n",
       "    <tr style=\"text-align: right;\">\n",
       "      <th></th>\n",
       "      <th>int.rate</th>\n",
       "      <th>installment</th>\n",
       "      <th>log.annual.inc</th>\n",
       "      <th>dti</th>\n",
       "      <th>fico</th>\n",
       "      <th>days.with.cr.line</th>\n",
       "      <th>revol.bal</th>\n",
       "      <th>revol.util</th>\n",
       "      <th>inq.last.6mths</th>\n",
       "      <th>delinq.2yrs</th>\n",
       "      <th>pub.rec</th>\n",
       "    </tr>\n",
       "  </thead>\n",
       "  <tbody>\n",
       "    <tr>\n",
       "      <th>count</th>\n",
       "      <td>9578.000000</td>\n",
       "      <td>9578.000000</td>\n",
       "      <td>9578.000000</td>\n",
       "      <td>9578.000000</td>\n",
       "      <td>9578.000000</td>\n",
       "      <td>9578.000000</td>\n",
       "      <td>9.578000e+03</td>\n",
       "      <td>9578.000000</td>\n",
       "      <td>9578.000000</td>\n",
       "      <td>9578.000000</td>\n",
       "      <td>9578.000000</td>\n",
       "    </tr>\n",
       "    <tr>\n",
       "      <th>mean</th>\n",
       "      <td>0.122640</td>\n",
       "      <td>319.089413</td>\n",
       "      <td>10.932117</td>\n",
       "      <td>12.606679</td>\n",
       "      <td>710.846314</td>\n",
       "      <td>4560.767197</td>\n",
       "      <td>1.691396e+04</td>\n",
       "      <td>46.799236</td>\n",
       "      <td>1.577469</td>\n",
       "      <td>0.163708</td>\n",
       "      <td>0.062122</td>\n",
       "    </tr>\n",
       "    <tr>\n",
       "      <th>std</th>\n",
       "      <td>0.026847</td>\n",
       "      <td>207.071301</td>\n",
       "      <td>0.614813</td>\n",
       "      <td>6.883970</td>\n",
       "      <td>37.970537</td>\n",
       "      <td>2496.930377</td>\n",
       "      <td>3.375619e+04</td>\n",
       "      <td>29.014417</td>\n",
       "      <td>2.200245</td>\n",
       "      <td>0.546215</td>\n",
       "      <td>0.262126</td>\n",
       "    </tr>\n",
       "    <tr>\n",
       "      <th>min</th>\n",
       "      <td>0.060000</td>\n",
       "      <td>15.670000</td>\n",
       "      <td>7.547502</td>\n",
       "      <td>0.000000</td>\n",
       "      <td>612.000000</td>\n",
       "      <td>178.958333</td>\n",
       "      <td>0.000000e+00</td>\n",
       "      <td>0.000000</td>\n",
       "      <td>0.000000</td>\n",
       "      <td>0.000000</td>\n",
       "      <td>0.000000</td>\n",
       "    </tr>\n",
       "    <tr>\n",
       "      <th>25%</th>\n",
       "      <td>0.103900</td>\n",
       "      <td>163.770000</td>\n",
       "      <td>10.558414</td>\n",
       "      <td>7.212500</td>\n",
       "      <td>682.000000</td>\n",
       "      <td>2820.000000</td>\n",
       "      <td>3.187000e+03</td>\n",
       "      <td>22.600000</td>\n",
       "      <td>0.000000</td>\n",
       "      <td>0.000000</td>\n",
       "      <td>0.000000</td>\n",
       "    </tr>\n",
       "    <tr>\n",
       "      <th>50%</th>\n",
       "      <td>0.122100</td>\n",
       "      <td>268.950000</td>\n",
       "      <td>10.928884</td>\n",
       "      <td>12.665000</td>\n",
       "      <td>707.000000</td>\n",
       "      <td>4139.958333</td>\n",
       "      <td>8.596000e+03</td>\n",
       "      <td>46.300000</td>\n",
       "      <td>1.000000</td>\n",
       "      <td>0.000000</td>\n",
       "      <td>0.000000</td>\n",
       "    </tr>\n",
       "    <tr>\n",
       "      <th>75%</th>\n",
       "      <td>0.140700</td>\n",
       "      <td>432.762500</td>\n",
       "      <td>11.291293</td>\n",
       "      <td>17.950000</td>\n",
       "      <td>737.000000</td>\n",
       "      <td>5730.000000</td>\n",
       "      <td>1.824950e+04</td>\n",
       "      <td>70.900000</td>\n",
       "      <td>2.000000</td>\n",
       "      <td>0.000000</td>\n",
       "      <td>0.000000</td>\n",
       "    </tr>\n",
       "    <tr>\n",
       "      <th>max</th>\n",
       "      <td>0.216400</td>\n",
       "      <td>940.140000</td>\n",
       "      <td>14.528354</td>\n",
       "      <td>29.960000</td>\n",
       "      <td>827.000000</td>\n",
       "      <td>17639.958330</td>\n",
       "      <td>1.207359e+06</td>\n",
       "      <td>119.000000</td>\n",
       "      <td>33.000000</td>\n",
       "      <td>13.000000</td>\n",
       "      <td>5.000000</td>\n",
       "    </tr>\n",
       "  </tbody>\n",
       "</table>\n",
       "</div>"
      ],
      "text/plain": [
       "          int.rate  installment  log.annual.inc          dti         fico  \\\n",
       "count  9578.000000  9578.000000     9578.000000  9578.000000  9578.000000   \n",
       "mean      0.122640   319.089413       10.932117    12.606679   710.846314   \n",
       "std       0.026847   207.071301        0.614813     6.883970    37.970537   \n",
       "min       0.060000    15.670000        7.547502     0.000000   612.000000   \n",
       "25%       0.103900   163.770000       10.558414     7.212500   682.000000   \n",
       "50%       0.122100   268.950000       10.928884    12.665000   707.000000   \n",
       "75%       0.140700   432.762500       11.291293    17.950000   737.000000   \n",
       "max       0.216400   940.140000       14.528354    29.960000   827.000000   \n",
       "\n",
       "       days.with.cr.line     revol.bal   revol.util  inq.last.6mths  \\\n",
       "count        9578.000000  9.578000e+03  9578.000000     9578.000000   \n",
       "mean         4560.767197  1.691396e+04    46.799236        1.577469   \n",
       "std          2496.930377  3.375619e+04    29.014417        2.200245   \n",
       "min           178.958333  0.000000e+00     0.000000        0.000000   \n",
       "25%          2820.000000  3.187000e+03    22.600000        0.000000   \n",
       "50%          4139.958333  8.596000e+03    46.300000        1.000000   \n",
       "75%          5730.000000  1.824950e+04    70.900000        2.000000   \n",
       "max         17639.958330  1.207359e+06   119.000000       33.000000   \n",
       "\n",
       "       delinq.2yrs      pub.rec  \n",
       "count  9578.000000  9578.000000  \n",
       "mean      0.163708     0.062122  \n",
       "std       0.546215     0.262126  \n",
       "min       0.000000     0.000000  \n",
       "25%       0.000000     0.000000  \n",
       "50%       0.000000     0.000000  \n",
       "75%       0.000000     0.000000  \n",
       "max      13.000000     5.000000  "
      ]
     },
     "execution_count": 8,
     "metadata": {},
     "output_type": "execute_result"
    }
   ],
   "source": [
    "numbers = loan.select_dtypes(['int64', 'float64']).columns\n",
    "loan[numbers].hist(figsize=(20,10), edgecolor='white', color='#00afb9')\n",
    "plt.show()\n",
    "\n",
    "loan[numbers].describe()"
   ]
  },
  {
   "cell_type": "markdown",
   "id": "dcfd1c17",
   "metadata": {
    "papermill": {
     "duration": 0.051286,
     "end_time": "2021-08-07T01:21:26.600667",
     "exception": false,
     "start_time": "2021-08-07T01:21:26.549381",
     "status": "completed"
    },
    "tags": []
   },
   "source": [
    "We can see that most of the histograms follow a normal distribution, except for revol.bal, which, from the descriptive stats, know that have some very extreme values, this could be fixed by removing the outiler or applyieng a log formula such as:"
   ]
  },
  {
   "cell_type": "code",
   "execution_count": 9,
   "id": "e2e29bed",
   "metadata": {
    "execution": {
     "iopub.execute_input": "2021-08-07T01:21:26.709999Z",
     "iopub.status.busy": "2021-08-07T01:21:26.708478Z",
     "iopub.status.idle": "2021-08-07T01:21:26.924013Z",
     "shell.execute_reply": "2021-08-07T01:21:26.924597Z",
     "shell.execute_reply.started": "2021-08-07T01:12:50.060226Z"
    },
    "papermill": {
     "duration": 0.273214,
     "end_time": "2021-08-07T01:21:26.924790",
     "exception": false,
     "start_time": "2021-08-07T01:21:26.651576",
     "status": "completed"
    },
    "tags": []
   },
   "outputs": [
    {
     "data": {
      "image/png": "[encoded data removed]",
      "text/plain": [
       "<Figure size 432x288 with 1 Axes>"
      ]
     },
     "metadata": {},
     "output_type": "display_data"
    }
   ],
   "source": [
    "TotalLog = np.log(loan['revol.bal'] + 1)\n",
    "TotalLog.hist(color='#00afb9')\n",
    "\n",
    "plt.show()"
   ]
  },
  {
   "cell_type": "markdown",
   "id": "15434a76",
   "metadata": {
    "papermill": {
     "duration": 0.048563,
     "end_time": "2021-08-07T01:21:27.023224",
     "exception": false,
     "start_time": "2021-08-07T01:21:26.974661",
     "status": "completed"
    },
    "tags": []
   },
   "source": [
    "With the log formula, the graph looks more 'normal'. We are going to take into account both method when building the ML model.\n",
    "\n",
    "Regarding 'delinq.2yrs' and 'pub.rec', these are distributions that have their values distributed through 4-5 values. They behave like a cateforical value but they are not. A count plot could give us a better representation of these distributions"
   ]
  },
  {
   "cell_type": "code",
   "execution_count": 10,
   "id": "08f26c04",
   "metadata": {
    "execution": {
     "iopub.execute_input": "2021-08-07T01:21:27.168716Z",
     "iopub.status.busy": "2021-08-07T01:21:27.149510Z",
     "iopub.status.idle": "2021-08-07T01:21:27.513234Z",
     "shell.execute_reply": "2021-08-07T01:21:27.513729Z",
     "shell.execute_reply.started": "2021-08-07T01:12:50.277617Z"
    },
    "papermill": {
     "duration": 0.442224,
     "end_time": "2021-08-07T01:21:27.513922",
     "exception": false,
     "start_time": "2021-08-07T01:21:27.071698",
     "status": "completed"
    },
    "tags": []
   },
   "outputs": [
    {
     "data": {
      "image/png": "[encoded data removed]",
      "text/plain": [
       "<Figure size 1080x360 with 2 Axes>"
      ]
     },
     "metadata": {},
     "output_type": "display_data"
    },
    {
     "name": "stdout",
     "output_type": "stream",
     "text": [
      "0     8458\n",
      "1      832\n",
      "2      192\n",
      "3       65\n",
      "4       19\n",
      "5        6\n",
      "6        2\n",
      "8        1\n",
      "11       1\n",
      "13       1\n",
      "7        1\n",
      "Name: delinq.2yrs, dtype: int64\n",
      "\n",
      " 0    9019\n",
      "1     533\n",
      "2      19\n",
      "3       5\n",
      "4       1\n",
      "5       1\n",
      "Name: pub.rec, dtype: int64\n"
     ]
    }
   ],
   "source": [
    "fig, ax = plt.subplots(1,2, figsize=(15,5))\n",
    "\n",
    "inte = ['delinq.2yrs', 'pub.rec']\n",
    "\n",
    "sns.countplot(inte[0], data=loan, ax=ax[0], palette=\"vlag\")\n",
    "sns.countplot(inte[1], data=loan, ax=ax[1], palette=\"vlag\")\n",
    "\n",
    "plt.show()\n",
    "\n",
    "print(loan[inte[0]].value_counts())\n",
    "print('\\n', loan[inte[1]].value_counts())"
   ]
  },
  {
   "cell_type": "markdown",
   "id": "2a2bdb64",
   "metadata": {
    "papermill": {
     "duration": 0.048341,
     "end_time": "2021-08-07T01:21:27.610850",
     "exception": false,
     "start_time": "2021-08-07T01:21:27.562509",
     "status": "completed"
    },
    "tags": []
   },
   "source": [
    "We can see that both distributions have some extreme values, after the data analysis, when building the ML model, we are to consider getting rid of them"
   ]
  },
  {
   "cell_type": "markdown",
   "id": "c2084f4b",
   "metadata": {
    "papermill": {
     "duration": 0.047913,
     "end_time": "2021-08-07T01:21:27.707579",
     "exception": false,
     "start_time": "2021-08-07T01:21:27.659666",
     "status": "completed"
    },
    "tags": []
   },
   "source": [
    "## 3.3. Booleans"
   ]
  },
  {
   "cell_type": "code",
   "execution_count": 11,
   "id": "0dcf0c60",
   "metadata": {
    "execution": {
     "iopub.execute_input": "2021-08-07T01:21:27.830381Z",
     "iopub.status.busy": "2021-08-07T01:21:27.829331Z",
     "iopub.status.idle": "2021-08-07T01:21:28.094271Z",
     "shell.execute_reply": "2021-08-07T01:21:28.094762Z",
     "shell.execute_reply.started": "2021-08-07T01:12:50.654395Z"
    },
    "papermill": {
     "duration": 0.338612,
     "end_time": "2021-08-07T01:21:28.094960",
     "exception": false,
     "start_time": "2021-08-07T01:21:27.756348",
     "status": "completed"
    },
    "tags": []
   },
   "outputs": [
    {
     "data": {
      "image/png": "[encoded data removed]",
      "text/plain": [
       "<Figure size 1080x360 with 2 Axes>"
      ]
     },
     "metadata": {},
     "output_type": "display_data"
    },
    {
     "name": "stdout",
     "output_type": "stream",
     "text": [
      "True     7710\n",
      "False    1868\n",
      "Name: credit.policy, dtype: int64\n",
      "\n",
      " False    8045\n",
      "True     1533\n",
      "Name: not.fully.paid, dtype: int64\n"
     ]
    }
   ],
   "source": [
    "fig, ax = plt.subplots(1,2, figsize=(15,5))\n",
    "\n",
    "boole = list(loan.select_dtypes(['bool']).columns)\n",
    "\n",
    "sns.countplot(boole[0], data=loan, ax=ax[0], palette=\"vlag\")\n",
    "ax[0].tick_params(labelrotation=90)\n",
    "ax[0].set_title(boole[0])\n",
    "\n",
    "sns.countplot(boole[1], data=loan, ax=ax[1], palette=\"vlag\")\n",
    "ax[1].tick_params(labelrotation=90)\n",
    "ax[1].set_title(boole[1])\n",
    "               \n",
    "plt.show()\n",
    "\n",
    "print(loan[boole[0]].value_counts())\n",
    "print('\\n', loan[boole[1]].value_counts())"
   ]
  },
  {
   "cell_type": "markdown",
   "id": "3c13d4aa",
   "metadata": {
    "papermill": {
     "duration": 0.0518,
     "end_time": "2021-08-07T01:21:28.198653",
     "exception": false,
     "start_time": "2021-08-07T01:21:28.146853",
     "status": "completed"
    },
    "tags": []
   },
   "source": [
    "we have a case of inbalanced data that could be a problem for the ML model since most of are false. When building the model, we are going to apply sampling technique to deal with the imbalanced data."
   ]
  },
  {
   "cell_type": "markdown",
   "id": "a6befb30",
   "metadata": {
    "papermill": {
     "duration": 0.049984,
     "end_time": "2021-08-07T01:21:28.298476",
     "exception": false,
     "start_time": "2021-08-07T01:21:28.248492",
     "status": "completed"
    },
    "tags": []
   },
   "source": [
    "## 3.4. Descriptive analysis conclusions and considerations.\n",
    "\n",
    "- 'revol.bal' is rich in outliers. for the ML model, we might take the outliers out or apply a log formula.\n",
    "- 'delinq.2yrs' and 'pub.rec' are also rich in outliers. Since they are integers, i don't think a log formula would be wise, It's better to take out the outliers for the ML model.\n",
    "- 'not.fully.paid', the target variable'is highly imbalanced. After the data analysis and before the ML model, I'm going to use a sampling technique to deal with this case."
   ]
  },
  {
   "cell_type": "markdown",
   "id": "6f38fc9b",
   "metadata": {
    "papermill": {
     "duration": 0.049318,
     "end_time": "2021-08-07T01:21:28.397604",
     "exception": false,
     "start_time": "2021-08-07T01:21:28.348286",
     "status": "completed"
    },
    "tags": []
   },
   "source": [
    "# 4. Data Analysis and EDA\n",
    "\n",
    "Since our target variable is a boolean, we are going to plot the 6 scatter plots with the highest correlations and hue them with the target variable, this will be more as a visual analysis. If we don't find any pattern, I'm going to apply a model-based feature selection to reduce the number of features and analyze the most relevants for the model.\n",
    "\n",
    "'Purpose' is a categorical variable, so a barplot will do.\n",
    "\n",
    "'inq.last.6mths', 'delinq.2yrs' and 'pub.rec'describbe the number of times something happened, a barplot will also work on these cases."
   ]
  },
  {
   "cell_type": "markdown",
   "id": "d6bec047",
   "metadata": {
    "papermill": {
     "duration": 0.049511,
     "end_time": "2021-08-07T01:21:28.496891",
     "exception": false,
     "start_time": "2021-08-07T01:21:28.447380",
     "status": "completed"
    },
    "tags": []
   },
   "source": [
    "## 4.1. Overlaped histograms"
   ]
  },
  {
   "cell_type": "code",
   "execution_count": 12,
   "id": "5d2e5942",
   "metadata": {
    "execution": {
     "iopub.execute_input": "2021-08-07T01:21:28.606167Z",
     "iopub.status.busy": "2021-08-07T01:21:28.605538Z",
     "iopub.status.idle": "2021-08-07T01:21:29.312380Z",
     "shell.execute_reply": "2021-08-07T01:21:29.311715Z",
     "shell.execute_reply.started": "2021-08-07T01:12:50.937889Z"
    },
    "papermill": {
     "duration": 0.765916,
     "end_time": "2021-08-07T01:21:29.312519",
     "exception": false,
     "start_time": "2021-08-07T01:21:28.546603",
     "status": "completed"
    },
    "tags": []
   },
   "outputs": [
    {
     "data": {
      "text/plain": [
       "<AxesSubplot:xlabel='int.rate', ylabel='Count'>"
      ]
     },
     "execution_count": 12,
     "metadata": {},
     "output_type": "execute_result"
    },
    {
     "data": {
      "image/png": "[encoded data removed]",
      "text/plain": [
       "<Figure size 432x288 with 1 Axes>"
      ]
     },
     "metadata": {},
     "output_type": "display_data"
    }
   ],
   "source": [
    "numbers = loan.select_dtypes(['int64', 'float64']).columns\n",
    "numbers = numbers[:-3]\n",
    "\n",
    "sns.histplot(data=loan, x=numbers[0], hue='not.fully.paid')"
   ]
  },
  {
   "cell_type": "code",
   "execution_count": 13,
   "id": "52346050",
   "metadata": {
    "execution": {
     "iopub.execute_input": "2021-08-07T01:21:29.454428Z",
     "iopub.status.busy": "2021-08-07T01:21:29.451698Z",
     "iopub.status.idle": "2021-08-07T01:21:38.687289Z",
     "shell.execute_reply": "2021-08-07T01:21:38.687801Z",
     "shell.execute_reply.started": "2021-08-07T01:12:51.628949Z"
    },
    "papermill": {
     "duration": 9.32344,
     "end_time": "2021-08-07T01:21:38.687994",
     "exception": false,
     "start_time": "2021-08-07T01:21:29.364554",
     "status": "completed"
    },
    "tags": []
   },
   "outputs": [
    {
     "data": {
      "image/png": "[encoded data removed]",
      "text/plain": [
       "<Figure size 1584x720 with 8 Axes>"
      ]
     },
     "metadata": {},
     "output_type": "display_data"
    }
   ],
   "source": [
    "fig, ax = plt.subplots(2,4, figsize=(22,10))\n",
    "ax=ax.ravel()\n",
    "\n",
    "count=0\n",
    "for i in numbers:\n",
    "    sns.histplot(data=loan, x=i, hue='not.fully.paid', ax=ax[count])\n",
    "    count+=1"
   ]
  },
  {
   "cell_type": "markdown",
   "id": "fd70a4cb",
   "metadata": {
    "papermill": {
     "duration": 0.052986,
     "end_time": "2021-08-07T01:21:38.794715",
     "exception": false,
     "start_time": "2021-08-07T01:21:38.741729",
     "status": "completed"
    },
    "tags": []
   },
   "source": [
    "Unfortunately, both distributions have the same shape but in a different proportion, looking for a pattern here will be difficult. Let's group our target variable by these variables and see how the mean and standard deviation differ."
   ]
  },
  {
   "cell_type": "code",
   "execution_count": 14,
   "id": "30994ff7",
   "metadata": {
    "execution": {
     "iopub.execute_input": "2021-08-07T01:21:38.905223Z",
     "iopub.status.busy": "2021-08-07T01:21:38.904222Z",
     "iopub.status.idle": "2021-08-07T01:21:38.948117Z",
     "shell.execute_reply": "2021-08-07T01:21:38.948600Z",
     "shell.execute_reply.started": "2021-08-07T01:13:00.744540Z"
    },
    "papermill": {
     "duration": 0.100577,
     "end_time": "2021-08-07T01:21:38.948765",
     "exception": false,
     "start_time": "2021-08-07T01:21:38.848188",
     "status": "completed"
    },
    "tags": []
   },
   "outputs": [
    {
     "data": {
      "text/html": [
       "<div>\n",
       "<style scoped>\n",
       "    .dataframe tbody tr th:only-of-type {\n",
       "        vertical-align: middle;\n",
       "    }\n",
       "\n",
       "    .dataframe tbody tr th {\n",
       "        vertical-align: top;\n",
       "    }\n",
       "\n",
       "    .dataframe thead tr th {\n",
       "        text-align: left;\n",
       "    }\n",
       "\n",
       "    .dataframe thead tr:last-of-type th {\n",
       "        text-align: right;\n",
       "    }\n",
       "</style>\n",
       "<table border=\"1\" class=\"dataframe\">\n",
       "  <thead>\n",
       "    <tr>\n",
       "      <th></th>\n",
       "      <th colspan=\"2\" halign=\"left\">int.rate</th>\n",
       "      <th colspan=\"2\" halign=\"left\">installment</th>\n",
       "      <th colspan=\"2\" halign=\"left\">log.annual.inc</th>\n",
       "      <th colspan=\"2\" halign=\"left\">dti</th>\n",
       "      <th colspan=\"2\" halign=\"left\">fico</th>\n",
       "      <th colspan=\"2\" halign=\"left\">days.with.cr.line</th>\n",
       "      <th colspan=\"2\" halign=\"left\">revol.bal</th>\n",
       "      <th colspan=\"2\" halign=\"left\">revol.util</th>\n",
       "    </tr>\n",
       "    <tr>\n",
       "      <th></th>\n",
       "      <th>mean</th>\n",
       "      <th>std</th>\n",
       "      <th>mean</th>\n",
       "      <th>std</th>\n",
       "      <th>mean</th>\n",
       "      <th>std</th>\n",
       "      <th>mean</th>\n",
       "      <th>std</th>\n",
       "      <th>mean</th>\n",
       "      <th>std</th>\n",
       "      <th>mean</th>\n",
       "      <th>std</th>\n",
       "      <th>mean</th>\n",
       "      <th>std</th>\n",
       "      <th>mean</th>\n",
       "      <th>std</th>\n",
       "    </tr>\n",
       "    <tr>\n",
       "      <th>not.fully.paid</th>\n",
       "      <th></th>\n",
       "      <th></th>\n",
       "      <th></th>\n",
       "      <th></th>\n",
       "      <th></th>\n",
       "      <th></th>\n",
       "      <th></th>\n",
       "      <th></th>\n",
       "      <th></th>\n",
       "      <th></th>\n",
       "      <th></th>\n",
       "      <th></th>\n",
       "      <th></th>\n",
       "      <th></th>\n",
       "      <th></th>\n",
       "      <th></th>\n",
       "    </tr>\n",
       "  </thead>\n",
       "  <tbody>\n",
       "    <tr>\n",
       "      <th>False</th>\n",
       "      <td>0.120770</td>\n",
       "      <td>0.026692</td>\n",
       "      <td>314.574123</td>\n",
       "      <td>203.398688</td>\n",
       "      <td>10.941091</td>\n",
       "      <td>0.604045</td>\n",
       "      <td>12.494413</td>\n",
       "      <td>6.855020</td>\n",
       "      <td>713.326911</td>\n",
       "      <td>38.223723</td>\n",
       "      <td>4592.632624</td>\n",
       "      <td>2508.035500</td>\n",
       "      <td>16122.724425</td>\n",
       "      <td>29637.645740</td>\n",
       "      <td>45.759608</td>\n",
       "      <td>28.891285</td>\n",
       "    </tr>\n",
       "    <tr>\n",
       "      <th>True</th>\n",
       "      <td>0.132452</td>\n",
       "      <td>0.025495</td>\n",
       "      <td>342.785114</td>\n",
       "      <td>223.948527</td>\n",
       "      <td>10.885023</td>\n",
       "      <td>0.666718</td>\n",
       "      <td>13.195838</td>\n",
       "      <td>7.006769</td>\n",
       "      <td>697.828441</td>\n",
       "      <td>33.756808</td>\n",
       "      <td>4393.541259</td>\n",
       "      <td>2431.785491</td>\n",
       "      <td>21066.293542</td>\n",
       "      <td>49905.689359</td>\n",
       "      <td>52.255075</td>\n",
       "      <td>29.057906</td>\n",
       "    </tr>\n",
       "  </tbody>\n",
       "</table>\n",
       "</div>"
      ],
      "text/plain": [
       "                int.rate           installment             log.annual.inc  \\\n",
       "                    mean       std        mean         std           mean   \n",
       "not.fully.paid                                                              \n",
       "False           0.120770  0.026692  314.574123  203.398688      10.941091   \n",
       "True            0.132452  0.025495  342.785114  223.948527      10.885023   \n",
       "\n",
       "                                dti                  fico             \\\n",
       "                     std       mean       std        mean        std   \n",
       "not.fully.paid                                                         \n",
       "False           0.604045  12.494413  6.855020  713.326911  38.223723   \n",
       "True            0.666718  13.195838  7.006769  697.828441  33.756808   \n",
       "\n",
       "               days.with.cr.line                  revol.bal                \\\n",
       "                            mean          std          mean           std   \n",
       "not.fully.paid                                                              \n",
       "False                4592.632624  2508.035500  16122.724425  29637.645740   \n",
       "True                 4393.541259  2431.785491  21066.293542  49905.689359   \n",
       "\n",
       "               revol.util             \n",
       "                     mean        std  \n",
       "not.fully.paid                        \n",
       "False           45.759608  28.891285  \n",
       "True            52.255075  29.057906  "
      ]
     },
     "execution_count": 14,
     "metadata": {},
     "output_type": "execute_result"
    }
   ],
   "source": [
    "loan.groupby('not.fully.paid')[numbers].agg(['mean', 'std'])"
   ]
  },
  {
   "cell_type": "markdown",
   "id": "ed30a914",
   "metadata": {
    "papermill": {
     "duration": 0.053526,
     "end_time": "2021-08-07T01:21:39.056202",
     "exception": false,
     "start_time": "2021-08-07T01:21:39.002676",
     "status": "completed"
    },
    "tags": []
   },
   "source": [
    "As expected, they do not differ a lot. The only concluson we can get here is that our target variable is almost equally distributed in each feature. Therefore, there's no relevant pattern for our model."
   ]
  },
  {
   "cell_type": "markdown",
   "id": "36fe97fd",
   "metadata": {
    "papermill": {
     "duration": 0.054633,
     "end_time": "2021-08-07T01:21:39.165782",
     "exception": false,
     "start_time": "2021-08-07T01:21:39.111149",
     "status": "completed"
    },
    "tags": []
   },
   "source": [
    "## 4.2. Barplots"
   ]
  },
  {
   "cell_type": "code",
   "execution_count": 15,
   "id": "0428d0df",
   "metadata": {
    "execution": {
     "iopub.execute_input": "2021-08-07T01:21:39.279122Z",
     "iopub.status.busy": "2021-08-07T01:21:39.278133Z",
     "iopub.status.idle": "2021-08-07T01:21:40.551881Z",
     "shell.execute_reply": "2021-08-07T01:21:40.552343Z",
     "shell.execute_reply.started": "2021-08-07T01:13:00.792429Z"
    },
    "papermill": {
     "duration": 1.332584,
     "end_time": "2021-08-07T01:21:40.552516",
     "exception": false,
     "start_time": "2021-08-07T01:21:39.219932",
     "status": "completed"
    },
    "tags": []
   },
   "outputs": [
    {
     "name": "stdout",
     "output_type": "stream",
     "text": [
      "['inq.last.6mths', 'delinq.2yrs', 'pub.rec', 'credit.policy']\n"
     ]
    },
    {
     "data": {
      "image/png": "[encoded data removed]",
      "text/plain": [
       "<Figure size 1440x720 with 4 Axes>"
      ]
     },
     "metadata": {},
     "output_type": "display_data"
    }
   ],
   "source": [
    "# Features to graph\n",
    "numbers = loan.select_dtypes(['int64', 'float64']).columns\n",
    "numbers = list(numbers[-3:])\n",
    "numbers.append(\"credit.policy\")\n",
    "print(numbers)\n",
    "\n",
    "# Viz\n",
    "fig, ax = plt.subplots(2,2, figsize=(20,10))\n",
    "\n",
    "ax=ax.ravel()\n",
    "\n",
    "count=0\n",
    "for i in numbers:\n",
    "    sns.countplot(x=i, data=loan, hue='not.fully.paid', ax=ax[count])\n",
    "    count+=1\n",
    "\n",
    "plt.show()"
   ]
  },
  {
   "cell_type": "markdown",
   "id": "644131cd",
   "metadata": {
    "papermill": {
     "duration": 0.05628,
     "end_time": "2021-08-07T01:21:40.666342",
     "exception": false,
     "start_time": "2021-08-07T01:21:40.610062",
     "status": "completed"
    },
    "tags": []
   },
   "source": [
    "No relevant insights as well. Let's try and apply a model-based feature selection and let the algorithm show us what is not visible to the eye."
   ]
  },
  {
   "cell_type": "markdown",
   "id": "d082a9c3",
   "metadata": {
    "papermill": {
     "duration": 0.055725,
     "end_time": "2021-08-07T01:21:40.778367",
     "exception": false,
     "start_time": "2021-08-07T01:21:40.722642",
     "status": "completed"
    },
    "tags": []
   },
   "source": [
    "# 5. Model-based feature selection.\n",
    "\n",
    "Model-based feature selection uses a supervised machine learning model to judge the importance of each feature, and keeps only the most important ones. For this case, we are going to use a random forest classifier, since it usually yields good results without having to normalize the features. Let's take a look."
   ]
  },
  {
   "cell_type": "code",
   "execution_count": 16,
   "id": "7d847368",
   "metadata": {
    "execution": {
     "iopub.execute_input": "2021-08-07T01:21:40.909160Z",
     "iopub.status.busy": "2021-08-07T01:21:40.907872Z",
     "iopub.status.idle": "2021-08-07T01:21:40.911685Z",
     "shell.execute_reply": "2021-08-07T01:21:40.912190Z",
     "shell.execute_reply.started": "2021-08-07T01:13:02.052115Z"
    },
    "papermill": {
     "duration": 0.078172,
     "end_time": "2021-08-07T01:21:40.912355",
     "exception": false,
     "start_time": "2021-08-07T01:21:40.834183",
     "status": "completed"
    },
    "tags": []
   },
   "outputs": [],
   "source": [
    "# Ml values\n",
    "numbers = loan.select_dtypes(['int64', 'float64', 'bool']).columns\n",
    "\n",
    "X = loan[numbers].iloc[:,:-1].values\n",
    "y = loan.iloc[:,-1].values.reshape(-1,1)\n",
    "\n",
    "X_train, X_test, y_train, y_test = train_test_split(X, y, random_state=42)"
   ]
  },
  {
   "cell_type": "code",
   "execution_count": 17,
   "id": "41ddf8ad",
   "metadata": {
    "execution": {
     "iopub.execute_input": "2021-08-07T01:21:41.028350Z",
     "iopub.status.busy": "2021-08-07T01:21:41.027695Z",
     "iopub.status.idle": "2021-08-07T01:24:20.572303Z",
     "shell.execute_reply": "2021-08-07T01:24:20.571702Z",
     "shell.execute_reply.started": "2021-08-07T01:13:02.071195Z"
    },
    "papermill": {
     "duration": 159.604109,
     "end_time": "2021-08-07T01:24:20.572465",
     "exception": false,
     "start_time": "2021-08-07T01:21:40.968356",
     "status": "completed"
    },
    "tags": []
   },
   "outputs": [
    {
     "name": "stdout",
     "output_type": "stream",
     "text": [
      "Test score: 0.741  number of features: 1\n",
      "Test score: 0.818  number of features: 2\n",
      "Test score: 0.835  number of features: 3\n",
      "Test score: 0.835  number of features: 4\n",
      "Test score: 0.838  number of features: 5\n",
      "Test score: 0.841  number of features: 6\n",
      "Test score: 0.838  number of features: 7\n",
      "Test score: 0.838  number of features: 8\n",
      "Test score: 0.837  number of features: 9\n",
      "Test score: 0.838  number of features: 10\n",
      "Test score: 0.838  number of features: 11\n",
      "Test score: 0.837  number of features: 12\n"
     ]
    }
   ],
   "source": [
    "for i in range(1,13):\n",
    "\n",
    "    select = RFE(RandomForestClassifier(n_estimators=100, random_state=42), n_features_to_select=i)\n",
    "\n",
    "    select.fit(X_train, y_train)\n",
    "\n",
    "    mask = select.get_support()\n",
    "\n",
    "    X_train_rfe = select.transform(X_train)\n",
    "    X_test_rfe = select.transform(X_test)\n",
    "\n",
    "    score = RandomForestClassifier().fit(X_train_rfe, y_train).score(X_test_rfe, y_test)\n",
    "\n",
    "    print(\"Test score: {:.3f}\".format(score), \" number of features: {}\".format(i))"
   ]
  },
  {
   "cell_type": "markdown",
   "id": "b0d2a63f",
   "metadata": {
    "papermill": {
     "duration": 0.060638,
     "end_time": "2021-08-07T01:24:20.697249",
     "exception": false,
     "start_time": "2021-08-07T01:24:20.636611",
     "status": "completed"
    },
    "tags": []
   },
   "source": [
    "There's not much difference between test scores. I'm going to choose 5 features and see what the algorithm chooses."
   ]
  },
  {
   "cell_type": "code",
   "execution_count": 18,
   "id": "fc65f202",
   "metadata": {
    "execution": {
     "iopub.execute_input": "2021-08-07T01:24:20.834170Z",
     "iopub.status.busy": "2021-08-07T01:24:20.833442Z",
     "iopub.status.idle": "2021-08-07T01:24:37.182794Z",
     "shell.execute_reply": "2021-08-07T01:24:37.182254Z",
     "shell.execute_reply.started": "2021-08-07T01:15:40.450240Z"
    },
    "papermill": {
     "duration": 16.424819,
     "end_time": "2021-08-07T01:24:37.183050",
     "exception": false,
     "start_time": "2021-08-07T01:24:20.758231",
     "status": "completed"
    },
    "tags": []
   },
   "outputs": [
    {
     "name": "stdout",
     "output_type": "stream",
     "text": [
      "Test score: 0.838  number of features: 5\n"
     ]
    },
    {
     "data": {
      "text/html": [
       "<div>\n",
       "<style scoped>\n",
       "    .dataframe tbody tr th:only-of-type {\n",
       "        vertical-align: middle;\n",
       "    }\n",
       "\n",
       "    .dataframe tbody tr th {\n",
       "        vertical-align: top;\n",
       "    }\n",
       "\n",
       "    .dataframe thead th {\n",
       "        text-align: right;\n",
       "    }\n",
       "</style>\n",
       "<table border=\"1\" class=\"dataframe\">\n",
       "  <thead>\n",
       "    <tr style=\"text-align: right;\">\n",
       "      <th></th>\n",
       "      <th>0</th>\n",
       "      <th>1</th>\n",
       "      <th>2</th>\n",
       "      <th>3</th>\n",
       "      <th>4</th>\n",
       "      <th>5</th>\n",
       "      <th>6</th>\n",
       "      <th>7</th>\n",
       "      <th>8</th>\n",
       "      <th>9</th>\n",
       "      <th>10</th>\n",
       "      <th>11</th>\n",
       "    </tr>\n",
       "  </thead>\n",
       "  <tbody>\n",
       "    <tr>\n",
       "      <th>features</th>\n",
       "      <td>credit.policy</td>\n",
       "      <td>int.rate</td>\n",
       "      <td>installment</td>\n",
       "      <td>log.annual.inc</td>\n",
       "      <td>dti</td>\n",
       "      <td>fico</td>\n",
       "      <td>days.with.cr.line</td>\n",
       "      <td>revol.bal</td>\n",
       "      <td>revol.util</td>\n",
       "      <td>inq.last.6mths</td>\n",
       "      <td>delinq.2yrs</td>\n",
       "      <td>pub.rec</td>\n",
       "    </tr>\n",
       "    <tr>\n",
       "      <th>select</th>\n",
       "      <td>False</td>\n",
       "      <td>False</td>\n",
       "      <td>True</td>\n",
       "      <td>False</td>\n",
       "      <td>True</td>\n",
       "      <td>False</td>\n",
       "      <td>True</td>\n",
       "      <td>True</td>\n",
       "      <td>True</td>\n",
       "      <td>False</td>\n",
       "      <td>False</td>\n",
       "      <td>False</td>\n",
       "    </tr>\n",
       "  </tbody>\n",
       "</table>\n",
       "</div>"
      ],
      "text/plain": [
       "                     0         1            2               3     4      5   \\\n",
       "features  credit.policy  int.rate  installment  log.annual.inc   dti   fico   \n",
       "select            False     False         True           False  True  False   \n",
       "\n",
       "                         6          7           8               9   \\\n",
       "features  days.with.cr.line  revol.bal  revol.util  inq.last.6mths   \n",
       "select                 True       True        True           False   \n",
       "\n",
       "                   10       11  \n",
       "features  delinq.2yrs  pub.rec  \n",
       "select          False    False  "
      ]
     },
     "metadata": {},
     "output_type": "display_data"
    },
    {
     "name": "stdout",
     "output_type": "stream",
     "text": [
      "The selected features are: \n",
      "\n"
     ]
    },
    {
     "data": {
      "text/plain": [
       "['installment', 'dti', 'days.with.cr.line', 'revol.bal', 'revol.util']"
      ]
     },
     "metadata": {},
     "output_type": "display_data"
    }
   ],
   "source": [
    "select = RFE(RandomForestClassifier(n_estimators=100, random_state=42), n_features_to_select=5)\n",
    "\n",
    "select.fit(X_train, y_train)\n",
    "\n",
    "mask = select.get_support()\n",
    "\n",
    "X_train_rfe = select.transform(X_train)\n",
    "X_test_rfe = select.transform(X_test)\n",
    "\n",
    "score = RandomForestClassifier().fit(X_train_rfe, y_train).score(X_test_rfe, y_test)\n",
    "\n",
    "print(\"Test score: {:.3f}\".format(score), \" number of features: {}\".format(5))\n",
    "\n",
    "features = pd.DataFrame({'features':list(loan[numbers].iloc[:,:-1].columns), 'select':list(mask)})\n",
    "display(features.T)\n",
    "features = list(features[features['select']==True]['features'])\n",
    "print(\"The selected features are: \" \"\\n\")\n",
    "display(features)\n"
   ]
  },
  {
   "cell_type": "markdown",
   "id": "203308f3",
   "metadata": {
    "papermill": {
     "duration": 0.061705,
     "end_time": "2021-08-07T01:24:37.306830",
     "exception": false,
     "start_time": "2021-08-07T01:24:37.245125",
     "status": "completed"
    },
    "tags": []
   },
   "source": [
    "We have our working features, let's add the target variable 'not.fully.paid' and proceed aplying a decision tree. Then, I'm going to keep mining and graph the model to see if i can finally find the pattern."
   ]
  },
  {
   "cell_type": "code",
   "execution_count": 19,
   "id": "b83b6dec",
   "metadata": {
    "execution": {
     "iopub.execute_input": "2021-08-07T01:24:37.451551Z",
     "iopub.status.busy": "2021-08-07T01:24:37.450863Z",
     "iopub.status.idle": "2021-08-07T01:24:37.456840Z",
     "shell.execute_reply": "2021-08-07T01:24:37.456317Z",
     "shell.execute_reply.started": "2021-08-07T01:15:56.750329Z"
    },
    "papermill": {
     "duration": 0.088869,
     "end_time": "2021-08-07T01:24:37.457000",
     "exception": false,
     "start_time": "2021-08-07T01:24:37.368131",
     "status": "completed"
    },
    "tags": []
   },
   "outputs": [
    {
     "name": "stdout",
     "output_type": "stream",
     "text": [
      "Working dataset \n",
      "\n"
     ]
    },
    {
     "data": {
      "text/html": [
       "<div>\n",
       "<style scoped>\n",
       "    .dataframe tbody tr th:only-of-type {\n",
       "        vertical-align: middle;\n",
       "    }\n",
       "\n",
       "    .dataframe tbody tr th {\n",
       "        vertical-align: top;\n",
       "    }\n",
       "\n",
       "    .dataframe thead th {\n",
       "        text-align: right;\n",
       "    }\n",
       "</style>\n",
       "<table border=\"1\" class=\"dataframe\">\n",
       "  <thead>\n",
       "    <tr style=\"text-align: right;\">\n",
       "      <th></th>\n",
       "      <th>installment</th>\n",
       "      <th>dti</th>\n",
       "      <th>days.with.cr.line</th>\n",
       "      <th>revol.bal</th>\n",
       "      <th>revol.util</th>\n",
       "      <th>not.fully.paid</th>\n",
       "    </tr>\n",
       "  </thead>\n",
       "  <tbody>\n",
       "    <tr>\n",
       "      <th>0</th>\n",
       "      <td>829.10</td>\n",
       "      <td>19.48</td>\n",
       "      <td>5639.958333</td>\n",
       "      <td>28854</td>\n",
       "      <td>52.1</td>\n",
       "      <td>False</td>\n",
       "    </tr>\n",
       "    <tr>\n",
       "      <th>1</th>\n",
       "      <td>228.22</td>\n",
       "      <td>14.29</td>\n",
       "      <td>2760.000000</td>\n",
       "      <td>33623</td>\n",
       "      <td>76.7</td>\n",
       "      <td>False</td>\n",
       "    </tr>\n",
       "    <tr>\n",
       "      <th>2</th>\n",
       "      <td>366.86</td>\n",
       "      <td>11.63</td>\n",
       "      <td>4710.000000</td>\n",
       "      <td>3511</td>\n",
       "      <td>25.6</td>\n",
       "      <td>False</td>\n",
       "    </tr>\n",
       "    <tr>\n",
       "      <th>3</th>\n",
       "      <td>162.34</td>\n",
       "      <td>8.10</td>\n",
       "      <td>2699.958333</td>\n",
       "      <td>33667</td>\n",
       "      <td>73.2</td>\n",
       "      <td>False</td>\n",
       "    </tr>\n",
       "    <tr>\n",
       "      <th>4</th>\n",
       "      <td>102.92</td>\n",
       "      <td>14.97</td>\n",
       "      <td>4066.000000</td>\n",
       "      <td>4740</td>\n",
       "      <td>39.5</td>\n",
       "      <td>False</td>\n",
       "    </tr>\n",
       "    <tr>\n",
       "      <th>...</th>\n",
       "      <td>...</td>\n",
       "      <td>...</td>\n",
       "      <td>...</td>\n",
       "      <td>...</td>\n",
       "      <td>...</td>\n",
       "      <td>...</td>\n",
       "    </tr>\n",
       "    <tr>\n",
       "      <th>9573</th>\n",
       "      <td>344.76</td>\n",
       "      <td>10.39</td>\n",
       "      <td>10474.000000</td>\n",
       "      <td>215372</td>\n",
       "      <td>82.1</td>\n",
       "      <td>True</td>\n",
       "    </tr>\n",
       "    <tr>\n",
       "      <th>9574</th>\n",
       "      <td>257.70</td>\n",
       "      <td>0.21</td>\n",
       "      <td>4380.000000</td>\n",
       "      <td>184</td>\n",
       "      <td>1.1</td>\n",
       "      <td>True</td>\n",
       "    </tr>\n",
       "    <tr>\n",
       "      <th>9575</th>\n",
       "      <td>97.81</td>\n",
       "      <td>13.09</td>\n",
       "      <td>3450.041667</td>\n",
       "      <td>10036</td>\n",
       "      <td>82.9</td>\n",
       "      <td>True</td>\n",
       "    </tr>\n",
       "    <tr>\n",
       "      <th>9576</th>\n",
       "      <td>351.58</td>\n",
       "      <td>19.18</td>\n",
       "      <td>1800.000000</td>\n",
       "      <td>0</td>\n",
       "      <td>3.2</td>\n",
       "      <td>True</td>\n",
       "    </tr>\n",
       "    <tr>\n",
       "      <th>9577</th>\n",
       "      <td>853.43</td>\n",
       "      <td>16.28</td>\n",
       "      <td>4740.000000</td>\n",
       "      <td>37879</td>\n",
       "      <td>57.0</td>\n",
       "      <td>True</td>\n",
       "    </tr>\n",
       "  </tbody>\n",
       "</table>\n",
       "<p>9578 rows × 6 columns</p>\n",
       "</div>"
      ],
      "text/plain": [
       "      installment    dti  days.with.cr.line  revol.bal  revol.util  \\\n",
       "0          829.10  19.48        5639.958333      28854        52.1   \n",
       "1          228.22  14.29        2760.000000      33623        76.7   \n",
       "2          366.86  11.63        4710.000000       3511        25.6   \n",
       "3          162.34   8.10        2699.958333      33667        73.2   \n",
       "4          102.92  14.97        4066.000000       4740        39.5   \n",
       "...           ...    ...                ...        ...         ...   \n",
       "9573       344.76  10.39       10474.000000     215372        82.1   \n",
       "9574       257.70   0.21        4380.000000        184         1.1   \n",
       "9575        97.81  13.09        3450.041667      10036        82.9   \n",
       "9576       351.58  19.18        1800.000000          0         3.2   \n",
       "9577       853.43  16.28        4740.000000      37879        57.0   \n",
       "\n",
       "      not.fully.paid  \n",
       "0              False  \n",
       "1              False  \n",
       "2              False  \n",
       "3              False  \n",
       "4              False  \n",
       "...              ...  \n",
       "9573            True  \n",
       "9574            True  \n",
       "9575            True  \n",
       "9576            True  \n",
       "9577            True  \n",
       "\n",
       "[9578 rows x 6 columns]"
      ]
     },
     "execution_count": 19,
     "metadata": {},
     "output_type": "execute_result"
    }
   ],
   "source": [
    "features.append('not.fully.paid')\n",
    "\n",
    "print(\"Working dataset\", \"\\n\")\n",
    "loan[features]"
   ]
  },
  {
   "cell_type": "markdown",
   "id": "b3d06fbd",
   "metadata": {
    "papermill": {
     "duration": 0.064668,
     "end_time": "2021-08-07T01:24:37.584389",
     "exception": false,
     "start_time": "2021-08-07T01:24:37.519721",
     "status": "completed"
    },
    "tags": []
   },
   "source": [
    "# 6. Decision Tree"
   ]
  },
  {
   "cell_type": "markdown",
   "id": "8d0c1cb2",
   "metadata": {
    "papermill": {
     "duration": 0.062464,
     "end_time": "2021-08-07T01:24:37.709611",
     "exception": false,
     "start_time": "2021-08-07T01:24:37.647147",
     "status": "completed"
    },
    "tags": []
   },
   "source": [
    "## 6.1. Resampling\n",
    "We know from section 3.4 that our data is highly imbalanced, let's apply a resampling algorithm before normalizing the dataset. For this case, I'm going to apply a random oversampling algorithm, this will create synthethic data in the minority class."
   ]
  },
  {
   "cell_type": "code",
   "execution_count": 20,
   "id": "f09575b5",
   "metadata": {
    "execution": {
     "iopub.execute_input": "2021-08-07T01:24:37.844871Z",
     "iopub.status.busy": "2021-08-07T01:24:37.843870Z",
     "iopub.status.idle": "2021-08-07T01:24:37.847139Z",
     "shell.execute_reply": "2021-08-07T01:24:37.847675Z",
     "shell.execute_reply.started": "2021-08-07T01:15:56.779263Z"
    },
    "papermill": {
     "duration": 0.074997,
     "end_time": "2021-08-07T01:24:37.847865",
     "exception": false,
     "start_time": "2021-08-07T01:24:37.772868",
     "status": "completed"
    },
    "tags": []
   },
   "outputs": [
    {
     "name": "stdout",
     "output_type": "stream",
     "text": [
      "Data before over-sampling\n",
      "False    8045\n",
      "True     1533\n",
      "Name: not.fully.paid, dtype: int64 \n",
      "\n"
     ]
    }
   ],
   "source": [
    "loan_ros = loan[features]\n",
    "print(\"Data before over-sampling\")\n",
    "print(loan_ros['not.fully.paid'].value_counts(), \"\\n\")\n",
    "\n"
   ]
  },
  {
   "cell_type": "code",
   "execution_count": 21,
   "id": "5c6837d2",
   "metadata": {
    "execution": {
     "iopub.execute_input": "2021-08-07T01:24:37.987561Z",
     "iopub.status.busy": "2021-08-07T01:24:37.986831Z",
     "iopub.status.idle": "2021-08-07T01:24:38.286881Z",
     "shell.execute_reply": "2021-08-07T01:24:38.286357Z",
     "shell.execute_reply.started": "2021-08-07T01:15:56.797918Z"
    },
    "papermill": {
     "duration": 0.37653,
     "end_time": "2021-08-07T01:24:38.287023",
     "exception": false,
     "start_time": "2021-08-07T01:24:37.910493",
     "status": "completed"
    },
    "tags": []
   },
   "outputs": [
    {
     "data": {
      "image/png": "[encoded data removed]",
      "text/plain": [
       "<Figure size 1080x360 with 2 Axes>"
      ]
     },
     "metadata": {},
     "output_type": "display_data"
    },
    {
     "name": "stdout",
     "output_type": "stream",
     "text": [
      "Data before over-sampling\n",
      "False    8045\n",
      "True     1533\n",
      "Name: not.fully.paid, dtype: int64 \n",
      "\n",
      "Data after over-sampling\n",
      "False    8045\n",
      "True     8045\n",
      "Name: not.fully.paid, dtype: int64\n"
     ]
    }
   ],
   "source": [
    "# over-sampling\n",
    "loan_ros = loan[features]\n",
    "X = loan_ros.iloc[:,:-1]\n",
    "y = loan_ros.iloc[:,-1]\n",
    "\n",
    "ros = RandomOverSampler(random_state=42)\n",
    "x_ros, y_ros = ros.fit_resample(X, y)\n",
    "\n",
    "loan_ros = x_ros\n",
    "loan_ros['not.fully.paid'] = y_ros\n",
    "\n",
    "\n",
    "#visualazing samples\n",
    "fig, ax = plt.subplots(1,2, figsize=(15,5))\n",
    "\n",
    "sns.countplot('not.fully.paid', data=loan, ax=ax[0], palette=\"vlag\")\n",
    "ax[0].tick_params(labelrotation=90)\n",
    "ax[0].set_title(\"Data before over-sampling\")\n",
    "\n",
    "sns.countplot('not.fully.paid', data=loan_ros, ax=ax[1], palette=\"vlag\")\n",
    "ax[1].tick_params(labelrotation=90)\n",
    "ax[1].set_title(\"Data after over-sampling\")\n",
    "\n",
    "plt.show()\n",
    "\n",
    "print(\"Data before over-sampling\")\n",
    "print(loan['not.fully.paid'].value_counts(), \"\\n\")\n",
    "\n",
    "print(\"Data after over-sampling\")\n",
    "print(loan_ros['not.fully.paid'].value_counts())"
   ]
  },
  {
   "cell_type": "markdown",
   "id": "c4af5e5f",
   "metadata": {
    "papermill": {
     "duration": 0.063556,
     "end_time": "2021-08-07T01:24:38.414798",
     "exception": false,
     "start_time": "2021-08-07T01:24:38.351242",
     "status": "completed"
    },
    "tags": []
   },
   "source": [
    "With balanced data, we can go ahead and build the model. Let's first check the distributions with the newly balanced data."
   ]
  },
  {
   "cell_type": "code",
   "execution_count": 22,
   "id": "fa1ae454",
   "metadata": {
    "execution": {
     "iopub.execute_input": "2021-08-07T01:24:38.585865Z",
     "iopub.status.busy": "2021-08-07T01:24:38.585187Z",
     "iopub.status.idle": "2021-08-07T01:24:47.145339Z",
     "shell.execute_reply": "2021-08-07T01:24:47.144638Z",
     "shell.execute_reply.started": "2021-08-07T01:15:57.112820Z"
    },
    "papermill": {
     "duration": 8.665992,
     "end_time": "2021-08-07T01:24:47.145505",
     "exception": false,
     "start_time": "2021-08-07T01:24:38.479513",
     "status": "completed"
    },
    "tags": []
   },
   "outputs": [
    {
     "data": {
      "image/png": "[encoded data removed]",
      "text/plain": [
       "<Figure size 1584x720 with 6 Axes>"
      ]
     },
     "metadata": {},
     "output_type": "display_data"
    }
   ],
   "source": [
    "fig, ax = plt.subplots(3,2, figsize=(22,10))\n",
    "ax=ax.ravel()\n",
    "\n",
    "count=0\n",
    "for i in loan_ros.keys():\n",
    "    sns.histplot(data=loan_ros, x=i, hue='not.fully.paid', ax=ax[count])\n",
    "    count+=1"
   ]
  },
  {
   "cell_type": "markdown",
   "id": "ef6e02d3",
   "metadata": {
    "papermill": {
     "duration": 0.065673,
     "end_time": "2021-08-07T01:24:47.277843",
     "exception": false,
     "start_time": "2021-08-07T01:24:47.212170",
     "status": "completed"
    },
    "tags": []
   },
   "source": [
    "not a pattern yet, lets see what the model tells us."
   ]
  },
  {
   "cell_type": "markdown",
   "id": "3b170350",
   "metadata": {
    "papermill": {
     "duration": 0.065849,
     "end_time": "2021-08-07T01:24:47.409522",
     "exception": false,
     "start_time": "2021-08-07T01:24:47.343673",
     "status": "completed"
    },
    "tags": []
   },
   "source": [
    "## 6.2. Tree model"
   ]
  },
  {
   "cell_type": "code",
   "execution_count": 23,
   "id": "eab694ce",
   "metadata": {
    "execution": {
     "iopub.execute_input": "2021-08-07T01:24:47.555934Z",
     "iopub.status.busy": "2021-08-07T01:24:47.555214Z",
     "iopub.status.idle": "2021-08-07T01:24:47.839117Z",
     "shell.execute_reply": "2021-08-07T01:24:47.838442Z",
     "shell.execute_reply.started": "2021-08-07T01:18:43.622747Z"
    },
    "papermill": {
     "duration": 0.36182,
     "end_time": "2021-08-07T01:24:47.839262",
     "exception": false,
     "start_time": "2021-08-07T01:24:47.477442",
     "status": "completed"
    },
    "tags": []
   },
   "outputs": [
    {
     "name": "stdout",
     "output_type": "stream",
     "text": [
      "Accuracy on training set : 0.757\n",
      "Accuracy on test set : 0.702 \n",
      "\n"
     ]
    },
    {
     "data": {
      "image/png": "[encoded data removed]",
      "text/plain": [
       "<Figure size 432x288 with 2 Axes>"
      ]
     },
     "metadata": {},
     "output_type": "display_data"
    },
    {
     "name": "stdout",
     "output_type": "stream",
     "text": [
      "[[1379  640]\n",
      " [ 559 1445]] \n",
      "\n",
      "Feature importances: \n",
      "[0.22807276 0.18140467 0.2387935  0.20038809 0.15134099]\n"
     ]
    }
   ],
   "source": [
    "# Selecting training values\n",
    "loan_model = loan_ros\n",
    "X = loan_model.iloc[:,:-1].values\n",
    "y = loan_model.iloc[:,-1].values\n",
    "\n",
    "X_train, X_test, y_train, y_test = train_test_split(X, y, random_state=42)\n",
    "\n",
    "# Building the model\n",
    "\n",
    "\n",
    "tree = DecisionTreeClassifier(max_depth=12, random_state=0)\n",
    "tree.fit(X_train, y_train)\n",
    "\n",
    "print(\"Accuracy on training set : {:.3f}\".format(tree.score(X_train, y_train)))\n",
    "print(\"Accuracy on test set : {:.3f}\".format(tree.score(X_test, y_test)), \"\\n\")\n",
    "\n",
    "\n",
    "# Confusion matrix\n",
    "disp = plot_confusion_matrix(tree, X_test, y_test,\n",
    "                             cmap=plt.cm.Blues, display_labels=[\"not fully paid\", \"fully paid\"])\n",
    "plt.show()\n",
    "\n",
    "print(disp.confusion_matrix, \"\\n\")\n",
    "\n",
    "print(\"Feature importances: \")\n",
    "print(tree.feature_importances_)"
   ]
  },
  {
   "cell_type": "markdown",
   "id": "c9e5ebb5",
   "metadata": {
    "papermill": {
     "duration": 0.069364,
     "end_time": "2021-08-07T01:24:47.977480",
     "exception": false,
     "start_time": "2021-08-07T01:24:47.908116",
     "status": "completed"
    },
    "tags": []
   },
   "source": [
    "We have achieved an acceptable score and confussion matrix. The feature importances shows why is so difficult to find a pattern in the data, all of the features have similar importance, which means that the model is a combination of fine tunnings from all of the features. Is hard to create a client profile given these features. But the algorithm can be useful when the bank operator enters the data in the system, the algorithm will tell the agents how probable it is for the client to fully pay or not."
   ]
  },
  {
   "cell_type": "markdown",
   "id": "8c195990",
   "metadata": {
    "papermill": {
     "duration": 0.068866,
     "end_time": "2021-08-07T01:24:48.115854",
     "exception": false,
     "start_time": "2021-08-07T01:24:48.046988",
     "status": "completed"
    },
    "tags": []
   },
   "source": [
    "# 7. Conclusions\n",
    "- We couldn't find any obervable pattern. The data the target variable is equally distributed in all the variables. It almost looks as if the dataset in synthetic.\n",
    "- Nevertheless, The the algorithm was able to reach a decent and more real test score (working with the imbalanced data would have yield a better but not real result), and was able to classify both outcomes of the target variable in the confusion matrix.\n",
    "- We couldn't meet the objective of creating a cliente profile, but the algorith could be use by agents to see how probable it is a client will pay or not, easing the decision process. "
   ]
  },
  {
   "cell_type": "code",
   "execution_count": null,
   "id": "13597699",
   "metadata": {
    "papermill": {
     "duration": 0.067695,
     "end_time": "2021-08-07T01:24:48.253297",
     "exception": false,
     "start_time": "2021-08-07T01:24:48.185602",
     "status": "completed"
    },
    "tags": []
   },
   "outputs": [],
   "source": []
  }
 ],
 "metadata": {
  "interpreter": {
   "hash": "330204c9d8b03d73c01b77e5fa072b00779363ad44c9b37d26bce407274881dd"
  },
  "kernelspec": {
   "display_name": "Python 3.9.7 64-bit",
   "name": "python3"
  },
  "language_info": {
   "codemirror_mode": {
    "name": "ipython",
    "version": 3
   },
   "file_extension": ".py",
   "mimetype": "text/x-python",
   "name": "python",
   "nbconvert_exporter": "python",
   "pygments_lexer": "ipython3",
   "version": "3.9.7"
  },
  "papermill": {
   "default_parameters": {},
   "duration": 217.819439,
   "end_time": "2021-08-07T01:24:49.333828",
   "environment_variables": {},
   "exception": null,
   "input_path": "__notebook__.ipynb",
   "output_path": "__notebook__.ipynb",
   "parameters": {},
   "start_time": "2021-08-07T01:21:11.514389",
   "version": "2.3.3"
  }
 },
 "nbformat": 4,
 "nbformat_minor": 5
}
