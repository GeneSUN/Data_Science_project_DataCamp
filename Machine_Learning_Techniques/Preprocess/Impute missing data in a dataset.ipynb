{
 "cells": [
  {
   "cell_type": "markdown",
   "id": "8ca5c670-8a64-4904-9d0a-4871d7ef3c44",
   "metadata": {},
   "source": [
    "# Impute missing data in a dataset"
   ]
  },
  {
   "cell_type": "markdown",
   "id": "8417ac1e-70f9-4cb9-9615-06969f1dccd2",
   "metadata": {},
   "source": [
    "In this template, we will explain how to handle missing data in a dataset.  \n",
    "Missing data is often indicated by `NaN`, `null`, leaving it empty, etc. Let's import a dataset consisting of such empty data."
   ]
  },
  {
   "cell_type": "code",
   "execution_count": null,
   "id": "ad6694a6-f064-44a1-aa77-57095fda33e5",
   "metadata": {},
   "outputs": [],
   "source": [
    "# Load packages\n",
    "from sklearn.impute import SimpleImputer\n",
    "import pandas as pd\n",
    "import numpy as np\n",
    "%config InlineBackend.figure_format = 'retina'"
   ]
  },
  {
   "cell_type": "code",
   "execution_count": null,
   "id": "50265658-3ac1-4075-bc11-46a313ddfa40",
   "metadata": {},
   "outputs": [],
   "source": [
    "# Upload your data as CSV and load as data frame\n",
    "df = pd.read_csv(\"data.csv\")"
   ]
  },
  {
   "cell_type": "markdown",
   "id": "ce43a48b-b2f7-4c30-a159-587a45174b87",
   "metadata": {},
   "source": [
    "As we can see there is some missing data. A naive approach would be to simply delete these rows. However, lots of  interesting data could get lost this way.  \n",
    "We will use a better approach by imputing the missing values from known data in the same column. This is achieved by the imputer from [scikit-learn](https://scikit-learn.org/stable/user_guide.html), which was previously imported.  \n",
    "\n",
    "We will pass two arguments to this imputer:\n",
    "* `missing_values`: as we can see in the dataframe above, the missing values are all indiciated by *NaN* (not a number). This should be consistent through the whole dataset (or at least through every column). This is the case here.\n",
    "* `strategy`: there are four options (\"mean\", \"median\", \"most_frequent\" or \"constant\"). We will use \"mean\" for the numerical values and \"most_frequent\" for the strings."
   ]
  },
  {
   "cell_type": "code",
   "execution_count": null,
   "id": "aeb163f5-fdbd-42fc-ac6a-08ff6821b626",
   "metadata": {},
   "outputs": [],
   "source": [
    "NUMERICAL_COLUMNS = [1,2]                                                               # The columns containing numerical values\n",
    "STRING_COLUMNS = [4]                                                                    # The columns containing strings\n",
    "\n",
    "# First, we will construct an imputer for the numerical values (salary and height)\n",
    "num_imputer = SimpleImputer(missing_values = np.nan, strategy = 'mean')                 # To impute missing values that should be numerical we will use the mean of that column\n",
    "num_imputer = num_imputer.fit(df.iloc[:,NUMERICAL_COLUMNS])                             # Calculate the mean of each column\n",
    "df.iloc[:,NUMERICAL_COLUMNS] = num_imputer.transform(df.iloc[:,NUMERICAL_COLUMNS])      # Fill in the NaN's with the correct mean\n",
    "\n",
    "# Now, we will do the same for column 'cartype', which consists of string values\n",
    "str_imputer = SimpleImputer(missing_values = np.nan, strategy = 'most_frequent')        # To impute missing values that should be strings we will use the most frequent type from that column\n",
    "str_imputer = str_imputer.fit(df.iloc[:,STRING_COLUMNS])                                # Calculate the most frequent value\n",
    "df.iloc[:,STRING_COLUMNS] = str_imputer.transform(df.iloc[:,STRING_COLUMNS])            # Fill in the NaN's with the correct value\n",
    "\n",
    "df"
   ]
  },
  {
   "cell_type": "markdown",
   "id": "b6a9f0fa-a4aa-4a41-bfe8-5e1dca4d5a48",
   "metadata": {},
   "source": [
    "We got rid of all missing data by either filling it with the mean or the most frequent occurence from the corresponding column. Now, we can start analyzing it or train a ML model with it. But first we will save it in a new csv-file."
   ]
  },
  {
   "cell_type": "code",
   "execution_count": null,
   "id": "3e336467-afa9-4070-bb8c-b5b3e331aad3",
   "metadata": {},
   "outputs": [],
   "source": [
    "df.to_csv('data_fixed.csv')"
   ]
  },
  {
   "cell_type": "markdown",
   "id": "4170b048-cfd3-4a64-98c7-ac8a469d67cc",
   "metadata": {},
   "source": [
    "### Useful links\n",
    "[Documentation SimpleImputer](https://scikit-learn.org/stable/modules/generated/sklearn.impute.SimpleImputer.html)"
   ]
  },
  {
   "cell_type": "code",
   "execution_count": null,
   "id": "3e4aed31-7c8e-44e0-a057-2630ff52fb2f",
   "metadata": {},
   "outputs": [],
   "source": []
  }
 ],
 "metadata": {
  "kernelspec": {
   "display_name": "Python 3",
   "language": "python",
   "name": "python3"
  },
  "language_info": {
   "codemirror_mode": {
    "name": "ipython",
    "version": 3
   },
   "file_extension": ".py",
   "mimetype": "text/x-python",
   "name": "python",
   "nbconvert_exporter": "python",
   "pygments_lexer": "ipython3",
   "version": "3.8.5"
  }
 },
 "nbformat": 4,
 "nbformat_minor": 5
}
